{
  "cells": [
    {
      "cell_type": "markdown",
      "metadata": {
        "id": "view-in-github",
        "colab_type": "text"
      },
      "source": [
        "<a href=\"https://colab.research.google.com/github/Dwslr/Simulative_mod6_basic_python_practice_cases/blob/main/Copy_of_%D0%9A%D0%B5%D0%B9%D1%81_%D0%9B%D0%BE%D0%B3%D0%B8_%D0%93%D0%BB%D0%B0%D0%B2%D0%B0_14_simulative_module6.ipynb\" target=\"_parent\"><img src=\"https://colab.research.google.com/assets/colab-badge.svg\" alt=\"Open In Colab\"/></a>"
      ]
    },
    {
      "cell_type": "markdown",
      "metadata": {
        "id": "XUqCUBW5fUST"
      },
      "source": [
        "## **1 кейс**\n",
        "\n",
        "**Работа с логами**"
      ]
    },
    {
      "cell_type": "markdown",
      "metadata": {
        "id": "OcK9kF9mfZIt"
      },
      "source": [
        "**Важно**\n",
        "\n",
        "Перед началом решения выполните следующую ячейку, чтобы загрузить необходимый для работы файл."
      ]
    },
    {
      "cell_type": "code",
      "execution_count": null,
      "metadata": {
        "id": "KtNBw8nOfPsB"
      },
      "outputs": [],
      "source": [
        "!wget https://gist.github.com/Vs8th/38d5d914171c84166728a9746d212bad/raw/auto_purchase.log"
      ]
    },
    {
      "cell_type": "markdown",
      "metadata": {
        "id": "CxmnD3GvffQ4"
      },
      "source": [
        "### **Решения**"
      ]
    },
    {
      "cell_type": "markdown",
      "metadata": {
        "id": "5bdLXu2ksLB7"
      },
      "source": [
        "#### **Задача 1**\n",
        "\n",
        "Ваша задача написать функцию `count_success_and_failure`, которая принимает на вход путь к файлу с логами и подсчитывает количество успешных продлений и ошибок при списании. Функция должна вернуть кортеж из двух значений: количества успешных попыток и неуспешных."
      ]
    },
    {
      "cell_type": "markdown",
      "metadata": {
        "id": "qUL4LtIUnJge"
      },
      "source": [
        "**Решение**\n",
        "\n",
        "Напишите свое решение ниже"
      ]
    },
    {
      "cell_type": "code",
      "execution_count": 3,
      "metadata": {
        "id": "Ia39hhmZbNRW",
        "colab": {
          "base_uri": "https://localhost:8080/"
        },
        "outputId": "8c6961bf-fb26-41fb-94c1-abe52d20f3fe"
      },
      "outputs": [
        {
          "output_type": "execute_result",
          "data": {
            "text/plain": [
              "(1034, 186)"
            ]
          },
          "metadata": {},
          "execution_count": 3
        }
      ],
      "source": [
        "# v1\n",
        "\n",
        "# v2\n",
        "def count_success_and_failure2(file_path):\n",
        "  with open('auto_purchase.log', 'r') as f:\n",
        "    lines = f.readlines()\n",
        "\n",
        "    all_atts = 0\n",
        "    err_atts = 0\n",
        "\n",
        "    for line in lines:\n",
        "      line = [element.strip() for element in line.split('|')]\n",
        "      all_atts += 1 if line[4].startswith('[demon] Обновляем') else 0\n",
        "      err_atts += 1 if line[0].lower().startswith('err') else 0\n",
        "\n",
        "  return all_atts - err_atts, err_atts\n",
        "\n",
        "\n",
        "#v3\n",
        "def count_success_and_failure(logs_path):\n",
        "  with open(logs_path, 'r') as logs_read:\n",
        "    lines = logs_read.readlines()\n",
        "\n",
        "    lines = [line.split(' | ') for line in lines]\n",
        "\n",
        "    #[print(line[3:5]) for line in lines if line[0].strip() == 'ERROR']  #line[4].strip().startswith('[demon] Обновляем')]\n",
        "\n",
        "    attempts = sum([1 for line in lines if line[4].strip().startswith('[demon] Обновляем')])\n",
        "    errors = sum([1 for line in lines if line[0].lower().strip() == 'error'])\n",
        "    success = attempts - errors\n",
        "\n",
        "    return success, errors\n",
        "\n",
        "\n",
        "#v4\n",
        "def count_success_and_failure4(logs_path):\n",
        "  with open(logs_path, 'r') as logs_read:\n",
        "    lines = logs_read.readlines()\n",
        "\n",
        "    lines = [line.split(' | ') for line in lines]\n",
        "\n",
        "    # filtered = list(filter(lambda x: x[4].lower().strip().startswith('[demon] обновляем'), lines))\n",
        "    # print(filtered)\n",
        "\n",
        "    atts = sum(map(lambda x: 1 if x[4].strip().startswith('[demon] Обновляем') else 0, lines))\n",
        "    errs = sum(map(lambda x: 1 if x[0].strip() == 'ERROR' else 0, lines))\n",
        "\n",
        "    return atts - errs, errs\n",
        "\n",
        "\n",
        "count_success_and_failure('auto_purchase.log')"
      ]
    },
    {
      "cell_type": "markdown",
      "metadata": {
        "id": "54Tvpn9OkDwV"
      },
      "source": [
        "✏️ ✏️ ✏️\n",
        "\n",
        "**Проверка**\n",
        "\n",
        "Чтобы проверить свое решение, запустите код в следующих ячейках"
      ]
    },
    {
      "cell_type": "code",
      "execution_count": 4,
      "metadata": {
        "colab": {
          "base_uri": "https://localhost:8080/"
        },
        "id": "LkqzVw9skKEC",
        "outputId": "958ba4b2-ad57-4b67-fa12-242cfef72cbf"
      },
      "outputs": [
        {
          "output_type": "stream",
          "name": "stdout",
          "text": [
            "Поздравляем, Вы справились!\n"
          ]
        }
      ],
      "source": [
        "res = count_success_and_failure('auto_purchase.log')\n",
        "\n",
        "try:\n",
        "    assert res == (1034, 186)\n",
        "except AssertionError:\n",
        "    print('Ответы не совпадают')\n",
        "else:\n",
        "    print('Поздравляем, Вы справились!')"
      ]
    },
    {
      "cell_type": "markdown",
      "metadata": {
        "id": "QLNMvvhXoIdV"
      },
      "source": [
        "#### **Задача 2**\n",
        "\n",
        "Ваша задача написать функцию `auto_renewal_sub`, которая принимает на вход путь к файлу с логами и обрабатывает количество клиентов с автопродлением подписки. Мы хотим посмотреть на изменение этого показателя в динамике: посчитайте сглаженные значения с помощью метода скользящего среднего и метода медианного сглаживания.  \n",
        "\n",
        "**Примечание:** При сглаживании берем все предыдущие значения, включая текущее, будущие значения не берем.\n",
        "\n",
        "Функция должна записать в файл `auto_renewal_sub.txt` два списка, предварив их соответствущими обозначениями:\n",
        "\n",
        "`Среднее: [2.0, 1.0, 0.67...]`\n",
        "\n",
        "`Медиана: [2, 2, 0...]`"
      ]
    },
    {
      "cell_type": "markdown",
      "metadata": {
        "id": "LThhpSINoMHN"
      },
      "source": [
        "**Решение**\n",
        "\n",
        "Напишите свое решение ниже"
      ]
    },
    {
      "cell_type": "code",
      "source": [
        "#v2 new\n",
        "\n",
        "def auto_renewal_sub(log_path):\n",
        "  with open(log_path, 'r') as read_logs:\n",
        "    lines = read_logs.readlines()\n",
        "\n",
        "    lines = [[el.strip() for el in line.split(' | ')] for line in lines]\n",
        "    lines = [line[:1] + [line[1].split()[0]] + line[4:] for line in lines]\n",
        "\n",
        "    # for line in lines: #check\n",
        "    #   print(line)\n",
        "\n",
        "    daysub_d = {}\n",
        "\n",
        "    daysub_d.update(\n",
        "        (line[1], daysub_d.get(line[1], 0) + 1) if line[2].startswith('[demon] Обновляем')\n",
        "        else (line[1], daysub_d.get(line[1], 0) - 1) if line[0] == 'ERROR'\n",
        "        else (line[1], daysub_d.get(line[1], 0)) for line in lines\n",
        "        )\n",
        "    #print(daysub_d) #check\n",
        "\n",
        "    lst = list(daysub_d.values())\n",
        "    #print(lst) #check\n",
        "\n",
        "    res = []\n",
        "\n",
        "    avg = []\n",
        "    med = []\n",
        "\n",
        "    for n in lst:\n",
        "      res.append(n)\n",
        "      res.sort()\n",
        "\n",
        "      avg.append(round(sum(res) / len(res), 2))\n",
        "\n",
        "      med.append(\n",
        "          res[len(res) // 2] if len(res) % 2 != 0\n",
        "          else round((res[len(res) // 2 - 1] + res[len(res) // 2]) / 2)\n",
        "      )\n",
        "\n",
        "    #print(avg)\n",
        "    #print(med)\n",
        "\n",
        "    with open('auto_renewal_sub.txt', 'w') as write_txt:\n",
        "      write_txt.write(f'Среднее: {avg}\\nМедиана: {med}')\n",
        "\n",
        "\n",
        "auto_renewal_sub('auto_purchase.log')"
      ],
      "metadata": {
        "id": "XZ8k4SPQkDwb"
      },
      "execution_count": 9,
      "outputs": []
    },
    {
      "cell_type": "code",
      "execution_count": 6,
      "metadata": {
        "id": "9s8JBMlboJuf"
      },
      "outputs": [],
      "source": [
        "#v1\n",
        "\n",
        "import re\n",
        "from datetime import datetime\n",
        "#from statistics import mean\n",
        "\n",
        "def auto_renewal_sub(log_file_path):\n",
        "  with open(log_file_path, 'r', newline='') as lr:\n",
        "    data = lr.readlines()\n",
        "\n",
        "    pays_d = {}\n",
        "\n",
        "    for line in data:\n",
        "      line = line.strip().split(' | ')\n",
        "      if line[0].lower().startswith('inf'):\n",
        "        date = line[1].split()[0]\n",
        "        if date not in pays_d:\n",
        "            pays_d[date] = 1 if line[4].lower().startswith('[demon] обновляем подписку') else 0\n",
        "        else:\n",
        "            pays_d[date] += 1 if line[4].lower().startswith('[demon] обновляем подписку') else 0\n",
        "\n",
        "    #print(pays_d)\n",
        "    #print(pays_d.keys())\n",
        "\n",
        "    pays = []\n",
        "\n",
        "    for date, regs in pays_d.items():\n",
        "      pays.append(regs)\n",
        "\n",
        "    res = []\n",
        "\n",
        "    summ = 0\n",
        "    avg = []\n",
        "    mdn = []\n",
        "\n",
        "    for pay in pays:\n",
        "      res.append(pay)\n",
        "      res.sort()\n",
        "\n",
        "      avg.append(round(sum(res) / len(res), 2))\n",
        "      #avg.append(mean(res))\n",
        "\n",
        "      if len(res) % 2 != 0:\n",
        "        mdn.append(res[len(res) // 2])\n",
        "      else:\n",
        "        mdn.append(round((res[len(res) // 2 - 1] + res[len(res) // 2]) / 2))\n",
        "\n",
        "    #return f'{avg}\\n{mdn}'\n",
        "    with open('auto_renewal_sub.txt', 'w') as wr:\n",
        "      wr.write(f'Среднее: {avg}\\nМедиана: {mdn}')\n",
        "\n",
        "res = auto_renewal_sub('auto_purchase.log')"
      ]
    },
    {
      "cell_type": "markdown",
      "metadata": {
        "id": "GN_PNZICsxRD"
      },
      "source": [
        "✏️ ✏️ ✏️\n",
        "\n",
        "**Проверка**\n",
        "\n",
        "Чтобы проверить свое решение, запустите код в следующих ячейках"
      ]
    },
    {
      "cell_type": "code",
      "execution_count": null,
      "metadata": {
        "id": "tys9eJRSqcEW"
      },
      "outputs": [],
      "source": [
        "# Здесь будет скачиваться файл с эталонным ответом\n",
        "\n",
        "!wget https://gist.github.com/Vs8th/846cbc97a722ab825cda4dda3b2b3434/raw/cor_auto_renewal.txt\n",
        "\n",
        "import pandas as pd\n",
        "\n",
        "user_answer = pd.read_csv('auto_renewal_sub.txt')\n",
        "correct_answer = pd.read_csv('cor_auto_renewal.txt')"
      ]
    },
    {
      "cell_type": "code",
      "execution_count": null,
      "metadata": {
        "id": "a36bM9j9tD7l",
        "colab": {
          "base_uri": "https://localhost:8080/",
          "height": 443
        },
        "outputId": "93da411f-4cb5-448a-889b-03d9ae922e0b"
      },
      "outputs": [
        {
          "output_type": "error",
          "ename": "AssertionError",
          "evalue": "При проверке возникла ошибка ValueError('Can only compare identically-labeled DataFrame objects')",
          "traceback": [
            "\u001b[0;31m---------------------------------------------------------------------------\u001b[0m",
            "\u001b[0;31mValueError\u001b[0m                                Traceback (most recent call last)",
            "\u001b[0;32m<ipython-input-64-89383b648292>\u001b[0m in \u001b[0;36m<cell line: 1>\u001b[0;34m()\u001b[0m\n\u001b[1;32m      1\u001b[0m \u001b[0;32mtry\u001b[0m\u001b[0;34m:\u001b[0m\u001b[0;34m\u001b[0m\u001b[0;34m\u001b[0m\u001b[0m\n\u001b[0;32m----> 2\u001b[0;31m   \u001b[0;32massert\u001b[0m \u001b[0;34m(\u001b[0m\u001b[0muser_answer\u001b[0m \u001b[0;34m==\u001b[0m \u001b[0mcorrect_answer\u001b[0m\u001b[0;34m)\u001b[0m\u001b[0;34m.\u001b[0m\u001b[0mall\u001b[0m\u001b[0;34m(\u001b[0m\u001b[0;34m)\u001b[0m\u001b[0;34m.\u001b[0m\u001b[0mall\u001b[0m\u001b[0;34m(\u001b[0m\u001b[0;34m)\u001b[0m\u001b[0;34m,\u001b[0m \u001b[0;34m'Ответы не совпадают'\u001b[0m\u001b[0;34m\u001b[0m\u001b[0;34m\u001b[0m\u001b[0m\n\u001b[0m\u001b[1;32m      3\u001b[0m \u001b[0;32mexcept\u001b[0m \u001b[0mException\u001b[0m \u001b[0;32mas\u001b[0m \u001b[0merr\u001b[0m\u001b[0;34m:\u001b[0m\u001b[0;34m\u001b[0m\u001b[0;34m\u001b[0m\u001b[0m\n",
            "\u001b[0;32m/usr/local/lib/python3.10/dist-packages/pandas/core/ops/common.py\u001b[0m in \u001b[0;36mnew_method\u001b[0;34m(self, other)\u001b[0m\n\u001b[1;32m     71\u001b[0m \u001b[0;34m\u001b[0m\u001b[0m\n\u001b[0;32m---> 72\u001b[0;31m         \u001b[0;32mreturn\u001b[0m \u001b[0mmethod\u001b[0m\u001b[0;34m(\u001b[0m\u001b[0mself\u001b[0m\u001b[0;34m,\u001b[0m \u001b[0mother\u001b[0m\u001b[0;34m)\u001b[0m\u001b[0;34m\u001b[0m\u001b[0;34m\u001b[0m\u001b[0m\n\u001b[0m\u001b[1;32m     73\u001b[0m \u001b[0;34m\u001b[0m\u001b[0m\n",
            "\u001b[0;32m/usr/local/lib/python3.10/dist-packages/pandas/core/arraylike.py\u001b[0m in \u001b[0;36m__eq__\u001b[0;34m(self, other)\u001b[0m\n\u001b[1;32m     41\u001b[0m     \u001b[0;32mdef\u001b[0m \u001b[0m__eq__\u001b[0m\u001b[0;34m(\u001b[0m\u001b[0mself\u001b[0m\u001b[0;34m,\u001b[0m \u001b[0mother\u001b[0m\u001b[0;34m)\u001b[0m\u001b[0;34m:\u001b[0m\u001b[0;34m\u001b[0m\u001b[0;34m\u001b[0m\u001b[0m\n\u001b[0;32m---> 42\u001b[0;31m         \u001b[0;32mreturn\u001b[0m \u001b[0mself\u001b[0m\u001b[0;34m.\u001b[0m\u001b[0m_cmp_method\u001b[0m\u001b[0;34m(\u001b[0m\u001b[0mother\u001b[0m\u001b[0;34m,\u001b[0m \u001b[0moperator\u001b[0m\u001b[0;34m.\u001b[0m\u001b[0meq\u001b[0m\u001b[0;34m)\u001b[0m\u001b[0;34m\u001b[0m\u001b[0;34m\u001b[0m\u001b[0m\n\u001b[0m\u001b[1;32m     43\u001b[0m \u001b[0;34m\u001b[0m\u001b[0m\n",
            "\u001b[0;32m/usr/local/lib/python3.10/dist-packages/pandas/core/frame.py\u001b[0m in \u001b[0;36m_cmp_method\u001b[0;34m(self, other, op)\u001b[0m\n\u001b[1;32m   7578\u001b[0m \u001b[0;34m\u001b[0m\u001b[0m\n\u001b[0;32m-> 7579\u001b[0;31m         \u001b[0mself\u001b[0m\u001b[0;34m,\u001b[0m \u001b[0mother\u001b[0m \u001b[0;34m=\u001b[0m \u001b[0mops\u001b[0m\u001b[0;34m.\u001b[0m\u001b[0malign_method_FRAME\u001b[0m\u001b[0;34m(\u001b[0m\u001b[0mself\u001b[0m\u001b[0;34m,\u001b[0m \u001b[0mother\u001b[0m\u001b[0;34m,\u001b[0m \u001b[0maxis\u001b[0m\u001b[0;34m,\u001b[0m \u001b[0mflex\u001b[0m\u001b[0;34m=\u001b[0m\u001b[0;32mFalse\u001b[0m\u001b[0;34m,\u001b[0m \u001b[0mlevel\u001b[0m\u001b[0;34m=\u001b[0m\u001b[0;32mNone\u001b[0m\u001b[0;34m)\u001b[0m\u001b[0;34m\u001b[0m\u001b[0;34m\u001b[0m\u001b[0m\n\u001b[0m\u001b[1;32m   7580\u001b[0m \u001b[0;34m\u001b[0m\u001b[0m\n",
            "\u001b[0;32m/usr/local/lib/python3.10/dist-packages/pandas/core/ops/__init__.py\u001b[0m in \u001b[0;36malign_method_FRAME\u001b[0;34m(left, right, axis, flex, level)\u001b[0m\n\u001b[1;32m    288\u001b[0m             \u001b[0;32melse\u001b[0m\u001b[0;34m:\u001b[0m\u001b[0;34m\u001b[0m\u001b[0;34m\u001b[0m\u001b[0m\n\u001b[0;32m--> 289\u001b[0;31m                 raise ValueError(\n\u001b[0m\u001b[1;32m    290\u001b[0m                     \u001b[0;34m\"Can only compare identically-labeled DataFrame objects\"\u001b[0m\u001b[0;34m\u001b[0m\u001b[0;34m\u001b[0m\u001b[0m\n",
            "\u001b[0;31mValueError\u001b[0m: Can only compare identically-labeled DataFrame objects",
            "\nDuring handling of the above exception, another exception occurred:\n",
            "\u001b[0;31mAssertionError\u001b[0m                            Traceback (most recent call last)",
            "\u001b[0;32m<ipython-input-64-89383b648292>\u001b[0m in \u001b[0;36m<cell line: 1>\u001b[0;34m()\u001b[0m\n\u001b[1;32m      2\u001b[0m   \u001b[0;32massert\u001b[0m \u001b[0;34m(\u001b[0m\u001b[0muser_answer\u001b[0m \u001b[0;34m==\u001b[0m \u001b[0mcorrect_answer\u001b[0m\u001b[0;34m)\u001b[0m\u001b[0;34m.\u001b[0m\u001b[0mall\u001b[0m\u001b[0;34m(\u001b[0m\u001b[0;34m)\u001b[0m\u001b[0;34m.\u001b[0m\u001b[0mall\u001b[0m\u001b[0;34m(\u001b[0m\u001b[0;34m)\u001b[0m\u001b[0;34m,\u001b[0m \u001b[0;34m'Ответы не совпадают'\u001b[0m\u001b[0;34m\u001b[0m\u001b[0;34m\u001b[0m\u001b[0m\n\u001b[1;32m      3\u001b[0m \u001b[0;32mexcept\u001b[0m \u001b[0mException\u001b[0m \u001b[0;32mas\u001b[0m \u001b[0merr\u001b[0m\u001b[0;34m:\u001b[0m\u001b[0;34m\u001b[0m\u001b[0;34m\u001b[0m\u001b[0m\n\u001b[0;32m----> 4\u001b[0;31m   \u001b[0;32mraise\u001b[0m \u001b[0mAssertionError\u001b[0m\u001b[0;34m(\u001b[0m\u001b[0;34mf'При проверке возникла ошибка {repr(err)}'\u001b[0m\u001b[0;34m)\u001b[0m\u001b[0;34m\u001b[0m\u001b[0;34m\u001b[0m\u001b[0m\n\u001b[0m\u001b[1;32m      5\u001b[0m \u001b[0;32melse\u001b[0m\u001b[0;34m:\u001b[0m\u001b[0;34m\u001b[0m\u001b[0;34m\u001b[0m\u001b[0m\n\u001b[1;32m      6\u001b[0m   \u001b[0mprint\u001b[0m\u001b[0;34m(\u001b[0m\u001b[0;34m'Поздравляем, Вы справились и успешно прошли все проверки!!'\u001b[0m\u001b[0;34m)\u001b[0m\u001b[0;34m\u001b[0m\u001b[0;34m\u001b[0m\u001b[0m\n",
            "\u001b[0;31mAssertionError\u001b[0m: При проверке возникла ошибка ValueError('Can only compare identically-labeled DataFrame objects')"
          ]
        }
      ],
      "source": [
        "try:\n",
        "  assert (user_answer == correct_answer).all().all(), 'Ответы не совпадают'\n",
        "except Exception as err:\n",
        "  raise AssertionError(f'При проверке возникла ошибка {repr(err)}')\n",
        "else:\n",
        "  print('Поздравляем, Вы справились и успешно прошли все проверки!!')"
      ]
    },
    {
      "cell_type": "markdown",
      "metadata": {
        "id": "AwB-HtPLtjyl"
      },
      "source": [
        "#### **Задача 3**\n",
        "\n",
        "Напишите функцию `sub_renewal_by_day`, которая принимает на вход путь к файлу с логами и анализирует взаимосвязь дня продления подписки и количества продлений в этот день. Функция должна записать в файл `weekdays.txt` аналитическую записку в формате:\n",
        "\n",
        "**`Количество обновлений подписки по дням недели:`**\n",
        "\n",
        "**`Понедельник: 6`**\n",
        "\n",
        "**`Вторник: 7`**\n",
        "\n",
        "**`Среда: 8`**\n",
        "\n",
        "**`...`**"
      ]
    },
    {
      "cell_type": "markdown",
      "metadata": {
        "id": "GOTB--hmt2xw"
      },
      "source": [
        "**Решение**\n",
        "\n",
        "Напишите свое решение ниже"
      ]
    },
    {
      "cell_type": "code",
      "execution_count": 10,
      "metadata": {
        "id": "fz7nRb_ntKMv",
        "colab": {
          "base_uri": "https://localhost:8080/"
        },
        "outputId": "0c816fad-2123-462a-c6c9-0da53162dbb0"
      },
      "outputs": [
        {
          "output_type": "stream",
          "name": "stdout",
          "text": [
            "{'Monday': 136, 'Tuesday': 144, 'Wednesday': 162, 'Thursday': 169, 'Friday': 145, 'Saturday': 135, 'Sunday': 143}\n"
          ]
        }
      ],
      "source": [
        "from datetime import datetime\n",
        "\n",
        "\n",
        "def sub_renewal_by_day(file_path):\n",
        "  with open(file_path, 'r') as rf:\n",
        "    data = rf.readlines()\n",
        "\n",
        "    weeknames_d = {'Monday': 0,\n",
        "                   'Tuesday': 0,\n",
        "                   'Wednesday': 0,\n",
        "                   'Thursday': 0,\n",
        "                   'Friday': 0,\n",
        "                   'Saturday': 0,\n",
        "                   'Sunday': 0}\n",
        "\n",
        "    for row in data:\n",
        "        row = [el.strip() for el in row.split(' | ')]\n",
        "\n",
        "        if row[0] == 'ERROR' or row[4].startswith('[demon] Обновляем'):\n",
        "          date = datetime.strptime(row[1], '%Y-%m-%d %H:%M:%S,%f') # convert string into date\n",
        "          dayname = date.strftime('%A') # convert date into weekday name\n",
        "\n",
        "          if dayname in weeknames_d and row[0] != 'ERROR':\n",
        "            weeknames_d[dayname] += 1\n",
        "          else:\n",
        "            weeknames_d[dayname] -= 1\n",
        "\n",
        "    print(weeknames_d)\n",
        "\n",
        "\n",
        "    with open('weekdays.txt', 'w') as wf:\n",
        "      wf.write('Количество обновлений подписки по дням недели:\\n')\n",
        "      for day, cnt in weeknames_d.items():\n",
        "        wf.write(f'{day}: {cnt}\\n')\n",
        "\n",
        "\n",
        "sub_renewal_by_day('auto_purchase.log')"
      ]
    },
    {
      "cell_type": "markdown",
      "metadata": {
        "id": "0-7TiI06t8D0"
      },
      "source": [
        "✏️ ✏️ ✏️\n",
        "\n",
        "**Проверка**\n",
        "\n",
        "Чтобы проверить свое решение, запустите код в следующих ячейках"
      ]
    },
    {
      "cell_type": "code",
      "execution_count": null,
      "metadata": {
        "id": "eOzvKzYqt_UH"
      },
      "outputs": [],
      "source": [
        "# Здесь будет скачиваться файл с эталонным ответом\n",
        "\n",
        "!wget https://gist.github.com/Vs8th/c4c382f50761b5b9e64795eb89d49fda/raw/cor_weekdays.txt\n",
        "\n",
        "import pandas as pd\n",
        "\n",
        "user_answer = pd.read_csv('weekdays.txt')\n",
        "correct_answer = pd.read_csv('cor_weekdays.txt')"
      ]
    },
    {
      "cell_type": "code",
      "execution_count": 12,
      "metadata": {
        "id": "KzV-hUKcvxb2",
        "colab": {
          "base_uri": "https://localhost:8080/",
          "height": 419
        },
        "outputId": "1fa23d9d-9400-477f-a281-94671289551b"
      },
      "outputs": [
        {
          "output_type": "error",
          "ename": "AssertionError",
          "evalue": "При проверке возникла ошибка AssertionError('Ответы не совпадают')",
          "traceback": [
            "\u001b[0;31m---------------------------------------------------------------------------\u001b[0m",
            "\u001b[0;31mAssertionError\u001b[0m                            Traceback (most recent call last)",
            "\u001b[0;32m<ipython-input-12-89383b648292>\u001b[0m in \u001b[0;36m<cell line: 1>\u001b[0;34m()\u001b[0m\n\u001b[1;32m      1\u001b[0m \u001b[0;32mtry\u001b[0m\u001b[0;34m:\u001b[0m\u001b[0;34m\u001b[0m\u001b[0;34m\u001b[0m\u001b[0m\n\u001b[0;32m----> 2\u001b[0;31m   \u001b[0;32massert\u001b[0m \u001b[0;34m(\u001b[0m\u001b[0muser_answer\u001b[0m \u001b[0;34m==\u001b[0m \u001b[0mcorrect_answer\u001b[0m\u001b[0;34m)\u001b[0m\u001b[0;34m.\u001b[0m\u001b[0mall\u001b[0m\u001b[0;34m(\u001b[0m\u001b[0;34m)\u001b[0m\u001b[0;34m.\u001b[0m\u001b[0mall\u001b[0m\u001b[0;34m(\u001b[0m\u001b[0;34m)\u001b[0m\u001b[0;34m,\u001b[0m \u001b[0;34m'Ответы не совпадают'\u001b[0m\u001b[0;34m\u001b[0m\u001b[0;34m\u001b[0m\u001b[0m\n\u001b[0m\u001b[1;32m      3\u001b[0m \u001b[0;32mexcept\u001b[0m \u001b[0mException\u001b[0m \u001b[0;32mas\u001b[0m \u001b[0merr\u001b[0m\u001b[0;34m:\u001b[0m\u001b[0;34m\u001b[0m\u001b[0;34m\u001b[0m\u001b[0m\n",
            "\u001b[0;31mAssertionError\u001b[0m: Ответы не совпадают",
            "\nDuring handling of the above exception, another exception occurred:\n",
            "\u001b[0;31mAssertionError\u001b[0m                            Traceback (most recent call last)",
            "\u001b[0;32m<ipython-input-12-89383b648292>\u001b[0m in \u001b[0;36m<cell line: 1>\u001b[0;34m()\u001b[0m\n\u001b[1;32m      2\u001b[0m   \u001b[0;32massert\u001b[0m \u001b[0;34m(\u001b[0m\u001b[0muser_answer\u001b[0m \u001b[0;34m==\u001b[0m \u001b[0mcorrect_answer\u001b[0m\u001b[0;34m)\u001b[0m\u001b[0;34m.\u001b[0m\u001b[0mall\u001b[0m\u001b[0;34m(\u001b[0m\u001b[0;34m)\u001b[0m\u001b[0;34m.\u001b[0m\u001b[0mall\u001b[0m\u001b[0;34m(\u001b[0m\u001b[0;34m)\u001b[0m\u001b[0;34m,\u001b[0m \u001b[0;34m'Ответы не совпадают'\u001b[0m\u001b[0;34m\u001b[0m\u001b[0;34m\u001b[0m\u001b[0m\n\u001b[1;32m      3\u001b[0m \u001b[0;32mexcept\u001b[0m \u001b[0mException\u001b[0m \u001b[0;32mas\u001b[0m \u001b[0merr\u001b[0m\u001b[0;34m:\u001b[0m\u001b[0;34m\u001b[0m\u001b[0;34m\u001b[0m\u001b[0m\n\u001b[0;32m----> 4\u001b[0;31m   \u001b[0;32mraise\u001b[0m \u001b[0mAssertionError\u001b[0m\u001b[0;34m(\u001b[0m\u001b[0;34mf'При проверке возникла ошибка {repr(err)}'\u001b[0m\u001b[0;34m)\u001b[0m\u001b[0;34m\u001b[0m\u001b[0;34m\u001b[0m\u001b[0m\n\u001b[0m\u001b[1;32m      5\u001b[0m \u001b[0;32melse\u001b[0m\u001b[0;34m:\u001b[0m\u001b[0;34m\u001b[0m\u001b[0;34m\u001b[0m\u001b[0m\n\u001b[1;32m      6\u001b[0m   \u001b[0mprint\u001b[0m\u001b[0;34m(\u001b[0m\u001b[0;34m'Поздравляем, Вы справились и успешно прошли все проверки!!'\u001b[0m\u001b[0;34m)\u001b[0m\u001b[0;34m\u001b[0m\u001b[0;34m\u001b[0m\u001b[0m\n",
            "\u001b[0;31mAssertionError\u001b[0m: При проверке возникла ошибка AssertionError('Ответы не совпадают')"
          ]
        }
      ],
      "source": [
        "try:\n",
        "  assert (user_answer == correct_answer).all().all(), 'Ответы не совпадают'\n",
        "except Exception as err:\n",
        "  raise AssertionError(f'При проверке возникла ошибка {repr(err)}')\n",
        "else:\n",
        "  print('Поздравляем, Вы справились и успешно прошли все проверки!!')"
      ]
    }
  ],
  "metadata": {
    "colab": {
      "provenance": [],
      "include_colab_link": true
    },
    "kernelspec": {
      "display_name": "Python 3",
      "name": "python3"
    },
    "language_info": {
      "name": "python"
    }
  },
  "nbformat": 4,
  "nbformat_minor": 0
}