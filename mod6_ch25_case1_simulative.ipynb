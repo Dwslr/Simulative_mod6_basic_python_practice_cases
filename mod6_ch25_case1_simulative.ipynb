{
  "nbformat": 4,
  "nbformat_minor": 0,
  "metadata": {
    "colab": {
      "provenance": [],
      "include_colab_link": true
    },
    "kernelspec": {
      "name": "python3",
      "display_name": "Python 3"
    },
    "language_info": {
      "name": "python"
    }
  },
  "cells": [
    {
      "cell_type": "markdown",
      "metadata": {
        "id": "view-in-github",
        "colab_type": "text"
      },
      "source": [
        "<a href=\"https://colab.research.google.com/github/Dwslr/Simulative_mod6_basic_python_practice_cases/blob/main/mod6_ch25_case1_simulative.ipynb\" target=\"_parent\"><img src=\"https://colab.research.google.com/assets/colab-badge.svg\" alt=\"Open In Colab\"/></a>"
      ]
    },
    {
      "cell_type": "markdown",
      "source": [
        "## **1 кейс**\n",
        "\n",
        "**ETL продажи**"
      ],
      "metadata": {
        "id": "XUqCUBW5fUST"
      }
    },
    {
      "cell_type": "markdown",
      "source": [
        "**Важно**\n",
        "\n",
        "Перед началом решения выполните следующую ячейку, чтобы загрузить необходимый для работы файл."
      ],
      "metadata": {
        "id": "OcK9kF9mfZIt"
      }
    },
    {
      "cell_type": "code",
      "execution_count": null,
      "metadata": {
        "id": "KtNBw8nOfPsB"
      },
      "outputs": [],
      "source": [
        "!wget https://gist.github.com/Vs8th/c1550e322588b735752bf2a7ccd1cdd0/raw/sales_data.csv"
      ]
    },
    {
      "cell_type": "markdown",
      "source": [
        "Чтобы посмотреть как он выглядит выполните следующую ячейку."
      ],
      "metadata": {
        "id": "JIwIK2E5fcyA"
      }
    },
    {
      "cell_type": "code",
      "source": [
        "import pandas as pd\n",
        "\n",
        "df = pd.read_csv('sales_data.csv')\n",
        "df"
      ],
      "metadata": {
        "id": "6f84pObFfbGE",
        "colab": {
          "base_uri": "https://localhost:8080/",
          "height": 424
        },
        "outputId": "a92b8e9d-5dd0-4a3d-9917-5431cea4d0d0"
      },
      "execution_count": 2,
      "outputs": [
        {
          "output_type": "execute_result",
          "data": {
            "text/plain": [
              "       id        date  amount    product\n",
              "0       1  2023-04-25   35.21  Product 6\n",
              "1       2  2022-08-31  359.19  Product 9\n",
              "2       3  2023-01-22  117.53  Product 5\n",
              "3       4  2022-12-15  366.68  Product 4\n",
              "4       5  2023-03-06  628.65  Product 2\n",
              "..    ...         ...     ...        ...\n",
              "995   996  2022-07-10  653.66  Product 3\n",
              "996   997  2023-01-13  691.89  Product 3\n",
              "997   998  2023-01-31  207.24  Product 1\n",
              "998   999  2023-01-16  653.59  Product 2\n",
              "999  1000  2023-06-20  448.11  Product 3\n",
              "\n",
              "[1000 rows x 4 columns]"
            ],
            "text/html": [
              "\n",
              "  <div id=\"df-5a76221e-d669-4ef3-bc66-f8eb93f07f2e\" class=\"colab-df-container\">\n",
              "    <div>\n",
              "<style scoped>\n",
              "    .dataframe tbody tr th:only-of-type {\n",
              "        vertical-align: middle;\n",
              "    }\n",
              "\n",
              "    .dataframe tbody tr th {\n",
              "        vertical-align: top;\n",
              "    }\n",
              "\n",
              "    .dataframe thead th {\n",
              "        text-align: right;\n",
              "    }\n",
              "</style>\n",
              "<table border=\"1\" class=\"dataframe\">\n",
              "  <thead>\n",
              "    <tr style=\"text-align: right;\">\n",
              "      <th></th>\n",
              "      <th>id</th>\n",
              "      <th>date</th>\n",
              "      <th>amount</th>\n",
              "      <th>product</th>\n",
              "    </tr>\n",
              "  </thead>\n",
              "  <tbody>\n",
              "    <tr>\n",
              "      <th>0</th>\n",
              "      <td>1</td>\n",
              "      <td>2023-04-25</td>\n",
              "      <td>35.21</td>\n",
              "      <td>Product 6</td>\n",
              "    </tr>\n",
              "    <tr>\n",
              "      <th>1</th>\n",
              "      <td>2</td>\n",
              "      <td>2022-08-31</td>\n",
              "      <td>359.19</td>\n",
              "      <td>Product 9</td>\n",
              "    </tr>\n",
              "    <tr>\n",
              "      <th>2</th>\n",
              "      <td>3</td>\n",
              "      <td>2023-01-22</td>\n",
              "      <td>117.53</td>\n",
              "      <td>Product 5</td>\n",
              "    </tr>\n",
              "    <tr>\n",
              "      <th>3</th>\n",
              "      <td>4</td>\n",
              "      <td>2022-12-15</td>\n",
              "      <td>366.68</td>\n",
              "      <td>Product 4</td>\n",
              "    </tr>\n",
              "    <tr>\n",
              "      <th>4</th>\n",
              "      <td>5</td>\n",
              "      <td>2023-03-06</td>\n",
              "      <td>628.65</td>\n",
              "      <td>Product 2</td>\n",
              "    </tr>\n",
              "    <tr>\n",
              "      <th>...</th>\n",
              "      <td>...</td>\n",
              "      <td>...</td>\n",
              "      <td>...</td>\n",
              "      <td>...</td>\n",
              "    </tr>\n",
              "    <tr>\n",
              "      <th>995</th>\n",
              "      <td>996</td>\n",
              "      <td>2022-07-10</td>\n",
              "      <td>653.66</td>\n",
              "      <td>Product 3</td>\n",
              "    </tr>\n",
              "    <tr>\n",
              "      <th>996</th>\n",
              "      <td>997</td>\n",
              "      <td>2023-01-13</td>\n",
              "      <td>691.89</td>\n",
              "      <td>Product 3</td>\n",
              "    </tr>\n",
              "    <tr>\n",
              "      <th>997</th>\n",
              "      <td>998</td>\n",
              "      <td>2023-01-31</td>\n",
              "      <td>207.24</td>\n",
              "      <td>Product 1</td>\n",
              "    </tr>\n",
              "    <tr>\n",
              "      <th>998</th>\n",
              "      <td>999</td>\n",
              "      <td>2023-01-16</td>\n",
              "      <td>653.59</td>\n",
              "      <td>Product 2</td>\n",
              "    </tr>\n",
              "    <tr>\n",
              "      <th>999</th>\n",
              "      <td>1000</td>\n",
              "      <td>2023-06-20</td>\n",
              "      <td>448.11</td>\n",
              "      <td>Product 3</td>\n",
              "    </tr>\n",
              "  </tbody>\n",
              "</table>\n",
              "<p>1000 rows × 4 columns</p>\n",
              "</div>\n",
              "    <div class=\"colab-df-buttons\">\n",
              "\n",
              "  <div class=\"colab-df-container\">\n",
              "    <button class=\"colab-df-convert\" onclick=\"convertToInteractive('df-5a76221e-d669-4ef3-bc66-f8eb93f07f2e')\"\n",
              "            title=\"Convert this dataframe to an interactive table.\"\n",
              "            style=\"display:none;\">\n",
              "\n",
              "  <svg xmlns=\"http://www.w3.org/2000/svg\" height=\"24px\" viewBox=\"0 -960 960 960\">\n",
              "    <path d=\"M120-120v-720h720v720H120Zm60-500h600v-160H180v160Zm220 220h160v-160H400v160Zm0 220h160v-160H400v160ZM180-400h160v-160H180v160Zm440 0h160v-160H620v160ZM180-180h160v-160H180v160Zm440 0h160v-160H620v160Z\"/>\n",
              "  </svg>\n",
              "    </button>\n",
              "\n",
              "  <style>\n",
              "    .colab-df-container {\n",
              "      display:flex;\n",
              "      gap: 12px;\n",
              "    }\n",
              "\n",
              "    .colab-df-convert {\n",
              "      background-color: #E8F0FE;\n",
              "      border: none;\n",
              "      border-radius: 50%;\n",
              "      cursor: pointer;\n",
              "      display: none;\n",
              "      fill: #1967D2;\n",
              "      height: 32px;\n",
              "      padding: 0 0 0 0;\n",
              "      width: 32px;\n",
              "    }\n",
              "\n",
              "    .colab-df-convert:hover {\n",
              "      background-color: #E2EBFA;\n",
              "      box-shadow: 0px 1px 2px rgba(60, 64, 67, 0.3), 0px 1px 3px 1px rgba(60, 64, 67, 0.15);\n",
              "      fill: #174EA6;\n",
              "    }\n",
              "\n",
              "    .colab-df-buttons div {\n",
              "      margin-bottom: 4px;\n",
              "    }\n",
              "\n",
              "    [theme=dark] .colab-df-convert {\n",
              "      background-color: #3B4455;\n",
              "      fill: #D2E3FC;\n",
              "    }\n",
              "\n",
              "    [theme=dark] .colab-df-convert:hover {\n",
              "      background-color: #434B5C;\n",
              "      box-shadow: 0px 1px 3px 1px rgba(0, 0, 0, 0.15);\n",
              "      filter: drop-shadow(0px 1px 2px rgba(0, 0, 0, 0.3));\n",
              "      fill: #FFFFFF;\n",
              "    }\n",
              "  </style>\n",
              "\n",
              "    <script>\n",
              "      const buttonEl =\n",
              "        document.querySelector('#df-5a76221e-d669-4ef3-bc66-f8eb93f07f2e button.colab-df-convert');\n",
              "      buttonEl.style.display =\n",
              "        google.colab.kernel.accessAllowed ? 'block' : 'none';\n",
              "\n",
              "      async function convertToInteractive(key) {\n",
              "        const element = document.querySelector('#df-5a76221e-d669-4ef3-bc66-f8eb93f07f2e');\n",
              "        const dataTable =\n",
              "          await google.colab.kernel.invokeFunction('convertToInteractive',\n",
              "                                                    [key], {});\n",
              "        if (!dataTable) return;\n",
              "\n",
              "        const docLinkHtml = 'Like what you see? Visit the ' +\n",
              "          '<a target=\"_blank\" href=https://colab.research.google.com/notebooks/data_table.ipynb>data table notebook</a>'\n",
              "          + ' to learn more about interactive tables.';\n",
              "        element.innerHTML = '';\n",
              "        dataTable['output_type'] = 'display_data';\n",
              "        await google.colab.output.renderOutput(dataTable, element);\n",
              "        const docLink = document.createElement('div');\n",
              "        docLink.innerHTML = docLinkHtml;\n",
              "        element.appendChild(docLink);\n",
              "      }\n",
              "    </script>\n",
              "  </div>\n",
              "\n",
              "\n",
              "<div id=\"df-2ead2817-04d2-4b3a-8fcb-6b79dbee7337\">\n",
              "  <button class=\"colab-df-quickchart\" onclick=\"quickchart('df-2ead2817-04d2-4b3a-8fcb-6b79dbee7337')\"\n",
              "            title=\"Suggest charts\"\n",
              "            style=\"display:none;\">\n",
              "\n",
              "<svg xmlns=\"http://www.w3.org/2000/svg\" height=\"24px\"viewBox=\"0 0 24 24\"\n",
              "     width=\"24px\">\n",
              "    <g>\n",
              "        <path d=\"M19 3H5c-1.1 0-2 .9-2 2v14c0 1.1.9 2 2 2h14c1.1 0 2-.9 2-2V5c0-1.1-.9-2-2-2zM9 17H7v-7h2v7zm4 0h-2V7h2v10zm4 0h-2v-4h2v4z\"/>\n",
              "    </g>\n",
              "</svg>\n",
              "  </button>\n",
              "\n",
              "<style>\n",
              "  .colab-df-quickchart {\n",
              "      --bg-color: #E8F0FE;\n",
              "      --fill-color: #1967D2;\n",
              "      --hover-bg-color: #E2EBFA;\n",
              "      --hover-fill-color: #174EA6;\n",
              "      --disabled-fill-color: #AAA;\n",
              "      --disabled-bg-color: #DDD;\n",
              "  }\n",
              "\n",
              "  [theme=dark] .colab-df-quickchart {\n",
              "      --bg-color: #3B4455;\n",
              "      --fill-color: #D2E3FC;\n",
              "      --hover-bg-color: #434B5C;\n",
              "      --hover-fill-color: #FFFFFF;\n",
              "      --disabled-bg-color: #3B4455;\n",
              "      --disabled-fill-color: #666;\n",
              "  }\n",
              "\n",
              "  .colab-df-quickchart {\n",
              "    background-color: var(--bg-color);\n",
              "    border: none;\n",
              "    border-radius: 50%;\n",
              "    cursor: pointer;\n",
              "    display: none;\n",
              "    fill: var(--fill-color);\n",
              "    height: 32px;\n",
              "    padding: 0;\n",
              "    width: 32px;\n",
              "  }\n",
              "\n",
              "  .colab-df-quickchart:hover {\n",
              "    background-color: var(--hover-bg-color);\n",
              "    box-shadow: 0 1px 2px rgba(60, 64, 67, 0.3), 0 1px 3px 1px rgba(60, 64, 67, 0.15);\n",
              "    fill: var(--button-hover-fill-color);\n",
              "  }\n",
              "\n",
              "  .colab-df-quickchart-complete:disabled,\n",
              "  .colab-df-quickchart-complete:disabled:hover {\n",
              "    background-color: var(--disabled-bg-color);\n",
              "    fill: var(--disabled-fill-color);\n",
              "    box-shadow: none;\n",
              "  }\n",
              "\n",
              "  .colab-df-spinner {\n",
              "    border: 2px solid var(--fill-color);\n",
              "    border-color: transparent;\n",
              "    border-bottom-color: var(--fill-color);\n",
              "    animation:\n",
              "      spin 1s steps(1) infinite;\n",
              "  }\n",
              "\n",
              "  @keyframes spin {\n",
              "    0% {\n",
              "      border-color: transparent;\n",
              "      border-bottom-color: var(--fill-color);\n",
              "      border-left-color: var(--fill-color);\n",
              "    }\n",
              "    20% {\n",
              "      border-color: transparent;\n",
              "      border-left-color: var(--fill-color);\n",
              "      border-top-color: var(--fill-color);\n",
              "    }\n",
              "    30% {\n",
              "      border-color: transparent;\n",
              "      border-left-color: var(--fill-color);\n",
              "      border-top-color: var(--fill-color);\n",
              "      border-right-color: var(--fill-color);\n",
              "    }\n",
              "    40% {\n",
              "      border-color: transparent;\n",
              "      border-right-color: var(--fill-color);\n",
              "      border-top-color: var(--fill-color);\n",
              "    }\n",
              "    60% {\n",
              "      border-color: transparent;\n",
              "      border-right-color: var(--fill-color);\n",
              "    }\n",
              "    80% {\n",
              "      border-color: transparent;\n",
              "      border-right-color: var(--fill-color);\n",
              "      border-bottom-color: var(--fill-color);\n",
              "    }\n",
              "    90% {\n",
              "      border-color: transparent;\n",
              "      border-bottom-color: var(--fill-color);\n",
              "    }\n",
              "  }\n",
              "</style>\n",
              "\n",
              "  <script>\n",
              "    async function quickchart(key) {\n",
              "      const quickchartButtonEl =\n",
              "        document.querySelector('#' + key + ' button');\n",
              "      quickchartButtonEl.disabled = true;  // To prevent multiple clicks.\n",
              "      quickchartButtonEl.classList.add('colab-df-spinner');\n",
              "      try {\n",
              "        const charts = await google.colab.kernel.invokeFunction(\n",
              "            'suggestCharts', [key], {});\n",
              "      } catch (error) {\n",
              "        console.error('Error during call to suggestCharts:', error);\n",
              "      }\n",
              "      quickchartButtonEl.classList.remove('colab-df-spinner');\n",
              "      quickchartButtonEl.classList.add('colab-df-quickchart-complete');\n",
              "    }\n",
              "    (() => {\n",
              "      let quickchartButtonEl =\n",
              "        document.querySelector('#df-2ead2817-04d2-4b3a-8fcb-6b79dbee7337 button');\n",
              "      quickchartButtonEl.style.display =\n",
              "        google.colab.kernel.accessAllowed ? 'block' : 'none';\n",
              "    })();\n",
              "  </script>\n",
              "</div>\n",
              "    </div>\n",
              "  </div>\n"
            ],
            "application/vnd.google.colaboratory.intrinsic+json": {
              "type": "dataframe",
              "variable_name": "df",
              "repr_error": "'str' object has no attribute 'empty'"
            }
          },
          "metadata": {},
          "execution_count": 2
        }
      ]
    },
    {
      "cell_type": "markdown",
      "source": [
        "### **Решения**"
      ],
      "metadata": {
        "id": "CxmnD3GvffQ4"
      }
    },
    {
      "cell_type": "markdown",
      "source": [
        "#### **Задача 1**\n",
        "\n",
        "Ваша задача написать класс `Extraction`, и определить в нем метод `from_csv`, который принимал бы путь к файлу и вытаскивал данные в виде списка объектов.\n",
        "\n",
        "Для этого, здесь же, определите класс `Sale`."
      ],
      "metadata": {
        "id": "5bdLXu2ksLB7"
      }
    },
    {
      "cell_type": "markdown",
      "source": [
        "**Решение**\n",
        "\n",
        "Напишите свое решение ниже"
      ],
      "metadata": {
        "id": "qUL4LtIUnJge"
      }
    },
    {
      "cell_type": "markdown",
      "source": [
        "Создайте класс \"Extraction\" (Извлечение):\n",
        "\n",
        "Реализуйте метод from_csv(file_path) для извлечения данных из CSV-файла.\n",
        "Метод from_csv() должен возвращать полученные данные в виде списка объектов продаж.\n",
        "\n",
        "\n",
        "Создайте класс \"Sale\" (Продажа):\n",
        "\n",
        "Каждая продажа должна иметь атрибуты, такие как id (идентификатор), date (дата продажи), amount (сумма продажи) и сам товар product (название).\n",
        "Реализуйте геттеры и сеттеры (get_id, get_date и тд) для доступа к атрибутам продажи."
      ],
      "metadata": {
        "id": "_A9jXsQ7NpuX"
      }
    },
    {
      "cell_type": "code",
      "source": [
        "import csv\n",
        "\n",
        "class Sale:\n",
        "    def __init__(self, sale_id, date, amount, product):\n",
        "        self._id = sale_id\n",
        "        self._date = date\n",
        "        self._amount = amount\n",
        "        self._product = product\n",
        "\n",
        "    def get_id(self):\n",
        "        return self._id\n",
        "\n",
        "    def set_id(self, new_id):\n",
        "        self._id = new_id\n",
        "\n",
        "    def get_date(self):\n",
        "        return self._date\n",
        "\n",
        "    def set_date(self, new_date):\n",
        "        self._date = new_date\n",
        "\n",
        "    def get_amount(self):\n",
        "        return self._amount\n",
        "\n",
        "    def set_amount(self, new_amount):\n",
        "        self._amount = new_amount\n",
        "\n",
        "    def get_product(self):\n",
        "        return self._product\n",
        "\n",
        "    def set_product(self, new_product):\n",
        "        self._product = new_product\n",
        "\n",
        "class Extraction:\n",
        "    @staticmethod\n",
        "    def from_csv(file_path):\n",
        "        sales = []\n",
        "        with open(file_path, 'r', newline='') as file:\n",
        "            reader = csv.DictReader(file)\n",
        "            for row in reader:\n",
        "                sale = Sale(row['id'], row['date'], float(row['amount']), row['product'])\n",
        "                sales.append(sale)\n",
        "        return sales\n",
        "\n",
        "\n",
        "sales_data = Extraction.from_csv('sales_data.csv')\n",
        "\n",
        "# for sale in sales_data[:5]:\n",
        "#     print(f\"ID: {sale.get_id()}, Date: {sale.get_date()}, Amount: {sale.get_amount()}, Product: {sale.get_product()}\")"
      ],
      "metadata": {
        "id": "Ia39hhmZbNRW"
      },
      "execution_count": 47,
      "outputs": []
    },
    {
      "cell_type": "markdown",
      "source": [
        "✏️ ✏️ ✏️\n",
        "\n",
        "**Проверка**\n",
        "\n",
        "Чтобы проверить свое решение, запустите код в следующих ячейках"
      ],
      "metadata": {
        "id": "54Tvpn9OkDwV"
      }
    },
    {
      "cell_type": "code",
      "source": [
        "#@title ✏️ Проверка: чтобы проверить свое решение запустите код в этой ячейке\n",
        "a = Extraction.from_csv('sales_data.csv')\n",
        "res = []\n",
        "for i in a[5:105:25]:\n",
        "  id = i.get_id()\n",
        "  date = i.get_date()\n",
        "  amount = i.get_amount()\n",
        "  product = i.get_product()\n",
        "  res.append((id, date, amount, product))\n",
        "\n",
        "try:\n",
        "    assert res == [('6', '2022-08-04', 843.69, 'Product 3'),\n",
        "                   ('31', '2022-11-06', 131.6, 'Product 8'),\n",
        "                   ('56', '2023-06-24', 747.08, 'Product 8'),\n",
        "                   ('81', '2023-05-09', 658.02, 'Product 10')]\n",
        "except AssertionError:\n",
        "    print('Ответы не совпадают')\n",
        "else:\n",
        "    print('Поздравляем, Вы справились!')"
      ],
      "metadata": {
        "id": "LkqzVw9skKEC",
        "colab": {
          "base_uri": "https://localhost:8080/"
        },
        "outputId": "ff58aa4f-6bb2-43c6-f2f8-bf7d329d1ad5",
        "cellView": "form"
      },
      "execution_count": 41,
      "outputs": [
        {
          "output_type": "stream",
          "name": "stdout",
          "text": [
            "Поздравляем, Вы справились!\n"
          ]
        }
      ]
    },
    {
      "cell_type": "markdown",
      "source": [
        "#### **Задача 2**\n",
        "\n",
        "Напишите класс `Transformation`, который содержит два метода: `filter_by_date(sales_data, start_date, end_date)` и `filter_by_amount(sales_data, min_amount, max_amount)`."
      ],
      "metadata": {
        "id": "QLNMvvhXoIdV"
      }
    },
    {
      "cell_type": "markdown",
      "source": [
        "**Решение**\n",
        "\n",
        "Напишите свое решение ниже"
      ],
      "metadata": {
        "id": "LThhpSINoMHN"
      }
    },
    {
      "cell_type": "markdown",
      "source": [
        "Создайте класс \"Transformation\" (Преобразование):\n",
        "\n",
        "Реализуйте методы для фильтрации данных о продажах по заданным критериям, например, по дате (filter_by_date) и сумме продажи (filter_by_amount).\n",
        "filter_by_date должен принимать start_date и end_date и возвращать только те, продажи, которые попали в этот промежуток.\n",
        "filter_by_amount должен принимать min_amount и max_amount и возвращать только те, продажи, которые по сумме покупки попали в этот промежуток.\n",
        "Методы должны возвращать отфильтрованные данные в виде списка объектов \"Продажа\"."
      ],
      "metadata": {
        "id": "qgpXWNkATgTg"
      }
    },
    {
      "cell_type": "code",
      "source": [
        "class Transformation:\n",
        "  @staticmethod\n",
        "  def filter_by_date(sales_data, start_date='1999-01-01', end_date='2999-01-01'):\n",
        "    filt_sales = [sale for sale in sales_data if start_date <= sale.get_date() <= end_date]\n",
        "    return filt_sales\n",
        "\n",
        "  @staticmethod\n",
        "  def filter_by_amount(sales_data, min_amount, max_amount):\n",
        "    filt_sales = [sale for sale in sales_data if min_amount <= sale.get_amount() <= max_amount]\n",
        "    return filt_sales\n",
        "\n",
        "# t = Transformation.filter_by_date(sales_data, '2023-06-29', '2023-06-30')\n",
        "\n",
        "# for line in t:\n",
        "#   print(line.get_id(), line.get_date(), line.get_amount(), line.get_product())"
      ],
      "metadata": {
        "id": "9s8JBMlboJuf"
      },
      "execution_count": 85,
      "outputs": []
    },
    {
      "cell_type": "markdown",
      "source": [
        "✏️ ✏️ ✏️\n",
        "\n",
        "**Проверка**\n",
        "\n",
        "Чтобы проверить свое решение, запустите код в следующих ячейках"
      ],
      "metadata": {
        "id": "GN_PNZICsxRD"
      }
    },
    {
      "cell_type": "code",
      "source": [
        "#@title ✏️ Проверка: чтобы проверить свое решение запустите код в этой ячейке\n",
        "sales_data = Extraction.from_csv('sales_data.csv')\n",
        "filtered_sales1 = Transformation.filter_by_date(sales_data, '2023-01-01', '2023-06-30')\n",
        "res2 = []\n",
        "for i in filtered_sales1[5:105:36]:\n",
        "  id = i.get_id()\n",
        "  date = i.get_date()\n",
        "  amount = i.get_amount()\n",
        "  product = i.get_product()\n",
        "  res2.append((id, date, amount, product))\n",
        "\n",
        "try:\n",
        "    assert res2 == [('10', '2023-02-04', 530.21, 'Product 1'),\n",
        "                    ('97', '2023-03-16', 518.75, 'Product 8'),\n",
        "                    ('163', '2023-06-12', 706.27, 'Product 9')]\n",
        "except AssertionError:\n",
        "    print('Ответы не совпадают')\n",
        "else:\n",
        "    print('Поздравляем, Вы справились!')"
      ],
      "metadata": {
        "colab": {
          "base_uri": "https://localhost:8080/"
        },
        "id": "a36bM9j9tD7l",
        "outputId": "6b836b36-f211-4da2-c607-6d22966f425c",
        "cellView": "form"
      },
      "execution_count": 81,
      "outputs": [
        {
          "output_type": "stream",
          "name": "stdout",
          "text": [
            "Поздравляем, Вы справились!\n"
          ]
        }
      ]
    },
    {
      "cell_type": "code",
      "source": [
        "#@title ✏️ Проверка: чтобы проверить свое решение запустите код в этой ячейке\n",
        "sales_data = Extraction.from_csv('sales_data.csv')\n",
        "filtered_sales2 = Transformation.filter_by_amount(filtered_sales1, 100, 1000)\n",
        "res3 = []\n",
        "for i in filtered_sales2[5:105:36]:\n",
        "  id = i.get_id()\n",
        "  date = i.get_date()\n",
        "  amount = i.get_amount()\n",
        "  product = i.get_product()\n",
        "  res3.append((id, date, amount, product))\n",
        "\n",
        "try:\n",
        "    assert res3 == [('11', '2023-01-04', 974.04, 'Product 10'),\n",
        "                    ('104', '2023-06-19', 680.99, 'Product 9'),\n",
        "                    ('178', '2023-01-28', 417.43, 'Product 7')]\n",
        "except AssertionError:\n",
        "    print('Ответы не совпадают')\n",
        "else:\n",
        "    print('Поздравляем, Вы справились!')"
      ],
      "metadata": {
        "colab": {
          "base_uri": "https://localhost:8080/"
        },
        "id": "khbNXvlDyYAT",
        "outputId": "9022084d-b8e8-46b9-a09b-baf6d9bcd3f8",
        "cellView": "form"
      },
      "execution_count": 83,
      "outputs": [
        {
          "output_type": "stream",
          "name": "stdout",
          "text": [
            "Поздравляем, Вы справились!\n"
          ]
        }
      ]
    },
    {
      "cell_type": "markdown",
      "source": [
        "#### **Задача 3**\n",
        "\n",
        "Напишите класс `Analysis`, содержащий два метода: `calculate_total_sales` и `calculate_average_sales`. Возвращаемые значения округлите до двух знаков после запятой."
      ],
      "metadata": {
        "id": "AwB-HtPLtjyl"
      }
    },
    {
      "cell_type": "markdown",
      "source": [
        "**Решение**\n",
        "\n",
        "Напишите свое решение ниже"
      ],
      "metadata": {
        "id": "GOTB--hmt2xw"
      }
    },
    {
      "cell_type": "code",
      "source": [
        "from statistics import mean\n",
        "\n",
        "class Analysis:\n",
        "  @staticmethod\n",
        "  def calculate_total_sales(sales_data):\n",
        "    sales_sum = sum(sale.get_amount() for sale in sales_data)\n",
        "    return sales_sum\n",
        "\n",
        "  @staticmethod\n",
        "  def calculate_average_sales(sales_data):\n",
        "    sales_sum = mean(sale.get_amount() for sale in sales_data)\n",
        "    return sales_sum"
      ],
      "metadata": {
        "id": "fz7nRb_ntKMv"
      },
      "execution_count": 95,
      "outputs": []
    },
    {
      "cell_type": "markdown",
      "source": [
        "✏️ ✏️ ✏️\n",
        "\n",
        "**Проверка**\n",
        "\n",
        "Чтобы проверить свое решение, запустите код в следующих ячейках"
      ],
      "metadata": {
        "id": "0-7TiI06t8D0"
      }
    },
    {
      "cell_type": "code",
      "source": [
        "#@title ✏️ Проверка: чтобы проверить свое решение запустите код в этой ячейке\n",
        "res4 = round(Analysis.calculate_total_sales(sales_data), 2)\n",
        "\n",
        "try:\n",
        "    assert res4 == 522581.97\n",
        "except AssertionError:\n",
        "    print('Ответы не совпадают')\n",
        "else:\n",
        "    print('Поздравляем, Вы справились!')"
      ],
      "metadata": {
        "colab": {
          "base_uri": "https://localhost:8080/"
        },
        "id": "KzV-hUKcvxb2",
        "outputId": "78334c84-d5f5-4167-967c-ca37bef02ff1",
        "cellView": "form"
      },
      "execution_count": 96,
      "outputs": [
        {
          "output_type": "stream",
          "name": "stdout",
          "text": [
            "Поздравляем, Вы справились!\n"
          ]
        }
      ]
    },
    {
      "cell_type": "code",
      "source": [
        "#@title ✏️ Проверка: чтобы проверить свое решение запустите код в этой ячейке\n",
        "res5 = round(Analysis.calculate_average_sales(sales_data), 2)\n",
        "\n",
        "try:\n",
        "    assert res5 == 522.58\n",
        "except AssertionError:\n",
        "    print('Ответы не совпадают')\n",
        "else:\n",
        "    print('Поздравляем, Вы справились!')"
      ],
      "metadata": {
        "colab": {
          "base_uri": "https://localhost:8080/"
        },
        "id": "2Pk17zzBzsDn",
        "outputId": "9d4800ba-3ec9-430d-e162-ff6fba0915f3",
        "cellView": "form"
      },
      "execution_count": 97,
      "outputs": [
        {
          "output_type": "stream",
          "name": "stdout",
          "text": [
            "Поздравляем, Вы справились!\n"
          ]
        }
      ]
    },
    {
      "cell_type": "markdown",
      "source": [
        "#### **Задача 4**\n",
        "\n",
        "Напишите класс `Loading` с методом `to_csv(sales_data, file_path)`, который запишет данные в `csv` файл."
      ],
      "metadata": {
        "id": "CgRs9f--z9N-"
      }
    },
    {
      "cell_type": "markdown",
      "source": [
        "**Решение**\n",
        "\n",
        "Напишите свое решение ниже"
      ],
      "metadata": {
        "id": "HAC66WJB0DtG"
      }
    },
    {
      "cell_type": "code",
      "source": [
        "class Loading:\n",
        "  def to_csv(sales_data, file_path):\n",
        "    with open(file_path ,'w') as a:\n",
        "      wr = csv.writer(a, delimiter=',')\n",
        "      wr.writerow(('id', 'date', 'amount', 'product'))\n",
        "      for line in sales_data:\n",
        "        wr.writerow((line.get_id(), line.get_date(), line.get_amount(), line.get_product()))\n",
        "\n",
        "# l = Loading.to_csv(sales_data, 'pyska.csv')"
      ],
      "metadata": {
        "id": "63tUPEeLz5e1"
      },
      "execution_count": 105,
      "outputs": []
    },
    {
      "cell_type": "markdown",
      "source": [
        "✏️ ✏️ ✏️\n",
        "\n",
        "**Проверка**\n",
        "\n",
        "Чтобы проверить свое решение, запустите код в следующих ячейках"
      ],
      "metadata": {
        "id": "wAeUY7ey0JGJ"
      }
    },
    {
      "cell_type": "code",
      "source": [
        "Loading.to_csv(filtered_sales2, 'filtered_sales.csv')"
      ],
      "metadata": {
        "id": "BbYGpfJ40HC9"
      },
      "execution_count": 106,
      "outputs": []
    },
    {
      "cell_type": "code",
      "source": [
        "# Здесь будет скачиваться файл с эталонным ответом\n",
        "\n",
        "!wget https://gist.github.com/Vs8th/533f827cc337efe288a5064604fe4e56/raw/filtered_sales_cor.csv\n",
        "\n",
        "import pandas as pd\n",
        "\n",
        "user_answer = pd.read_csv('filtered_sales.csv')\n",
        "correct_answer = pd.read_csv('filtered_sales_cor.csv')"
      ],
      "metadata": {
        "id": "nArXJ0ax1F09",
        "colab": {
          "base_uri": "https://localhost:8080/"
        },
        "outputId": "b6589b7a-0158-4f6e-e673-04954a70fb09"
      },
      "execution_count": 107,
      "outputs": [
        {
          "output_type": "stream",
          "name": "stdout",
          "text": [
            "--2024-02-29 11:03:45--  https://gist.github.com/Vs8th/533f827cc337efe288a5064604fe4e56/raw/filtered_sales_cor.csv\n",
            "Resolving gist.github.com (gist.github.com)... 140.82.112.3\n",
            "Connecting to gist.github.com (gist.github.com)|140.82.112.3|:443... connected.\n",
            "HTTP request sent, awaiting response... 301 Moved Permanently\n",
            "Location: https://gist.githubusercontent.com/Vs8th/533f827cc337efe288a5064604fe4e56/raw/filtered_sales_cor.csv [following]\n",
            "--2024-02-29 11:03:45--  https://gist.githubusercontent.com/Vs8th/533f827cc337efe288a5064604fe4e56/raw/filtered_sales_cor.csv\n",
            "Resolving gist.githubusercontent.com (gist.githubusercontent.com)... 185.199.108.133, 185.199.109.133, 185.199.110.133, ...\n",
            "Connecting to gist.githubusercontent.com (gist.githubusercontent.com)|185.199.108.133|:443... connected.\n",
            "HTTP request sent, awaiting response... 200 OK\n",
            "Length: 14847 (14K) [text/plain]\n",
            "Saving to: ‘filtered_sales_cor.csv’\n",
            "\n",
            "\rfiltered_sales_cor.   0%[                    ]       0  --.-KB/s               \rfiltered_sales_cor. 100%[===================>]  14.50K  --.-KB/s    in 0s      \n",
            "\n",
            "2024-02-29 11:03:45 (35.9 MB/s) - ‘filtered_sales_cor.csv’ saved [14847/14847]\n",
            "\n"
          ]
        }
      ]
    },
    {
      "cell_type": "code",
      "source": [
        "#@title ✏️ Проверка: чтобы проверить свое решение запустите код в этой ячейке\n",
        "try:\n",
        "  assert (user_answer == correct_answer).all().all(), 'Ответы не совпадают'\n",
        "  assert user_answer.columns.equals(correct_answer.columns), 'Названия столбцов не совпадают'\n",
        "except Exception as err:\n",
        "  raise AssertionError(f'При проверке возникла ошибка {repr(err)}')\n",
        "else:\n",
        "  print('Поздравляем, Вы справились и успешно прошли все проверки!')"
      ],
      "metadata": {
        "colab": {
          "base_uri": "https://localhost:8080/"
        },
        "id": "e2nVbdAn1IjH",
        "outputId": "57a2b33b-2896-42dc-a58a-de0514ae9727"
      },
      "execution_count": 108,
      "outputs": [
        {
          "output_type": "stream",
          "name": "stdout",
          "text": [
            "Поздравляем, Вы справились и успешно прошли все проверки!\n"
          ]
        }
      ]
    }
  ]
}