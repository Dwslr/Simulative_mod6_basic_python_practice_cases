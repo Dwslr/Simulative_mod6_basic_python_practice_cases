{
  "cells": [
    {
      "cell_type": "markdown",
      "metadata": {
        "id": "view-in-github",
        "colab_type": "text"
      },
      "source": [
        "<a href=\"https://colab.research.google.com/github/Dwslr/Simulative_mod6_basic_python_practice_cases/blob/main/Copy_of_%D0%9A%D0%B5%D0%B9%D1%811_%D0%9B%D0%BE%D0%B3%D0%B8_%D0%93%D0%BB%D0%B0%D0%B2%D0%B0_14_simulative.ipynb\" target=\"_parent\"><img src=\"https://colab.research.google.com/assets/colab-badge.svg\" alt=\"Open In Colab\"/></a>"
      ]
    },
    {
      "cell_type": "markdown",
      "metadata": {
        "id": "XUqCUBW5fUST"
      },
      "source": [
        "## **1 кейс**\n",
        "\n",
        "**Работа с логами**"
      ]
    },
    {
      "cell_type": "markdown",
      "metadata": {
        "id": "OcK9kF9mfZIt"
      },
      "source": [
        "**Важно**\n",
        "\n",
        "Перед началом решения выполните следующую ячейку, чтобы загрузить необходимый для работы файл."
      ]
    },
    {
      "cell_type": "code",
      "execution_count": null,
      "metadata": {
        "id": "KtNBw8nOfPsB"
      },
      "outputs": [],
      "source": [
        "!wget https://gist.github.com/Vs8th/38d5d914171c84166728a9746d212bad/raw/auto_purchase.log"
      ]
    },
    {
      "cell_type": "markdown",
      "metadata": {
        "id": "CxmnD3GvffQ4"
      },
      "source": [
        "### **Решения**"
      ]
    },
    {
      "cell_type": "markdown",
      "metadata": {
        "id": "5bdLXu2ksLB7"
      },
      "source": [
        "#### **Задача 1**\n",
        "\n",
        "Ваша задача написать функцию `count_success_and_failure`, которая принимает на вход путь к файлу с логами и подсчитывает количество успешных продлений и ошибок при списании. Функция должна вернуть кортеж из двух значений: количества успешных попыток и неуспешных."
      ]
    },
    {
      "cell_type": "markdown",
      "metadata": {
        "id": "qUL4LtIUnJge"
      },
      "source": [
        "**Решение**\n",
        "\n",
        "Напишите свое решение ниже"
      ]
    },
    {
      "cell_type": "code",
      "execution_count": 3,
      "metadata": {
        "id": "Ia39hhmZbNRW",
        "colab": {
          "base_uri": "https://localhost:8080/"
        },
        "outputId": "25c9926f-d61c-44b2-b467-116eaf106aa3"
      },
      "outputs": [
        {
          "output_type": "execute_result",
          "data": {
            "text/plain": [
              "(1034, 186)"
            ]
          },
          "metadata": {},
          "execution_count": 3
        }
      ],
      "source": [
        "# v1\n",
        "\n",
        "# v2\n",
        "def count_success_and_failure2(file_path):\n",
        "  with open('auto_purchase.log', 'r') as f:\n",
        "    lines = f.readlines()\n",
        "\n",
        "    all_atts = 0\n",
        "    err_atts = 0\n",
        "\n",
        "    for line in lines:\n",
        "      line = [element.strip() for element in line.split('|')]\n",
        "      all_atts += 1 if line[4].startswith('[demon] Обновляем') else 0\n",
        "      err_atts += 1 if line[0].lower().startswith('err') else 0\n",
        "\n",
        "  return all_atts - err_atts, err_atts\n",
        "\n",
        "\n",
        "#v3\n",
        "def count_success_and_failure(logs_path):\n",
        "  with open(logs_path, 'r') as logs_read:\n",
        "    lines = logs_read.readlines()\n",
        "\n",
        "    lines = [line.split(' | ') for line in lines]\n",
        "\n",
        "    #[print(line[3:5]) for line in lines if line[0].strip() == 'ERROR']  #line[4].strip().startswith('[demon] Обновляем')]\n",
        "\n",
        "    attempts = sum([1 for line in lines if line[4].strip().startswith('[demon] Обновляем')])\n",
        "    errors = sum([1 for line in lines if line[0].lower().strip() == 'error'])\n",
        "    success = attempts - errors\n",
        "\n",
        "    return success, errors\n",
        "\n",
        "\n",
        "#v4\n",
        "def count_success_and_failure4(logs_path):\n",
        "  with open(logs_path, 'r') as logs_read:\n",
        "    lines = logs_read.readlines()\n",
        "\n",
        "    lines = [line.split(' | ') for line in lines]\n",
        "\n",
        "    # filtered = list(filter(lambda x: x[4].lower().strip().startswith('[demon] обновляем'), lines))\n",
        "    # print(filtered)\n",
        "\n",
        "    atts = sum(map(lambda x: 1 if x[4].strip().startswith('[demon] Обновляем') else 0, lines))\n",
        "    errs = sum(map(lambda x: 1 if x[0].strip() == 'ERROR' else 0, lines))\n",
        "\n",
        "    return atts - errs, errs\n",
        "\n",
        "\n",
        "count_success_and_failure('auto_purchase.log')"
      ]
    },
    {
      "cell_type": "markdown",
      "metadata": {
        "id": "54Tvpn9OkDwV"
      },
      "source": [
        "✏️ ✏️ ✏️\n",
        "\n",
        "**Проверка**\n",
        "\n",
        "Чтобы проверить свое решение, запустите код в следующих ячейках"
      ]
    },
    {
      "cell_type": "code",
      "execution_count": null,
      "metadata": {
        "id": "LkqzVw9skKEC"
      },
      "outputs": [],
      "source": [
        "res = count_success_and_failure('auto_purchase.log')\n",
        "\n",
        "try:\n",
        "    assert res == (1034, 186)\n",
        "except AssertionError:\n",
        "    print('Ответы не совпадают')\n",
        "else:\n",
        "    print('Поздравляем, Вы справились!')"
      ]
    },
    {
      "cell_type": "markdown",
      "metadata": {
        "id": "QLNMvvhXoIdV"
      },
      "source": [
        "#### **Задача 2**\n",
        "\n",
        "Ваша задача написать функцию `auto_renewal_sub`, которая принимает на вход путь к файлу с логами и обрабатывает количество клиентов с автопродлением подписки. Мы хотим посмотреть на изменение этого показателя в динамике: посчитайте сглаженные значения с помощью метода скользящего среднего и метода медианного сглаживания.  \n",
        "\n",
        "**Примечание:** При сглаживании берем все предыдущие значения, включая текущее, будущие значения не берем.\n",
        "\n",
        "Функция должна записать в файл `auto_renewal_sub.txt` два списка, предварив их соответствущими обозначениями:\n",
        "\n",
        "`Среднее: [2.0, 1.0, 0.67...]`\n",
        "\n",
        "`Медиана: [2, 2, 0...]`"
      ]
    },
    {
      "cell_type": "markdown",
      "metadata": {
        "id": "LThhpSINoMHN"
      },
      "source": [
        "**Решение**\n",
        "\n",
        "Напишите свое решение ниже"
      ]
    },
    {
      "cell_type": "code",
      "source": [
        "#v2 new\n",
        "\n",
        "def auto_renewal_sub(log_path):\n",
        "  with open(log_path, 'r') as read_logs:\n",
        "    lines = read_logs.readlines()\n",
        "\n",
        "    lines = [[el.strip() for el in line.split(' | ')] for line in lines]\n",
        "    lines = [line[:1] + [line[1].split()[0]] + line[4:] for line in lines]\n",
        "\n",
        "    # for line in lines: #check\n",
        "    #   print(line)\n",
        "\n",
        "    daysub_d = {}\n",
        "\n",
        "    daysub_d.update(\n",
        "        (line[1], daysub_d.get(line[1], 0) + 1) if line[2].startswith('[demon] Обновляем')\n",
        "        else (line[1], daysub_d.get(line[1], 0) - 1) if line[0] == 'ERROR'\n",
        "        else (line[1], daysub_d.get(line[1], 0)) for line in lines\n",
        "        )\n",
        "    #print(daysub_d) #check\n",
        "\n",
        "    lst = list(daysub_d.values())\n",
        "    #print(lst) #check\n",
        "\n",
        "    res = []\n",
        "\n",
        "    avg = []\n",
        "    med = []\n",
        "\n",
        "    for n in lst:\n",
        "      res.append(n)\n",
        "      res.sort()\n",
        "\n",
        "      avg.append(round(sum(res) / len(res), 2))\n",
        "\n",
        "      med.append(\n",
        "          res[len(res) // 2] if len(res) % 2 != 0\n",
        "          else round((res[len(res) // 2 - 1] + res[len(res) // 2]) / 2)\n",
        "      )\n",
        "\n",
        "    #print(avg)\n",
        "    #print(med)\n",
        "\n",
        "    with open('auto_renewal_sub.txt', 'w') as write_txt:\n",
        "      write_txt.write(f'Среднее: {avg}\\nМедиана: {med}')\n",
        "\n",
        "\n",
        "auto_renewal_sub('auto_purchase.log')"
      ],
      "metadata": {
        "id": "XZ8k4SPQkDwb"
      },
      "execution_count": 4,
      "outputs": []
    },
    {
      "cell_type": "code",
      "execution_count": 6,
      "metadata": {
        "id": "9s8JBMlboJuf"
      },
      "outputs": [],
      "source": [
        "#v1\n",
        "\n",
        "import re\n",
        "from datetime import datetime\n",
        "#from statistics import mean\n",
        "\n",
        "def auto_renewal_sub(log_file_path):\n",
        "  with open(log_file_path, 'r', newline='') as lr:\n",
        "    data = lr.readlines()\n",
        "\n",
        "    pays_d = {}\n",
        "\n",
        "    for line in data:\n",
        "      line = line.strip().split(' | ')\n",
        "      if line[0].lower().startswith('inf'):\n",
        "        date = line[1].split()[0]\n",
        "        if date not in pays_d:\n",
        "            pays_d[date] = 1 if line[4].lower().startswith('[demon] обновляем подписку') else 0\n",
        "        else:\n",
        "            pays_d[date] += 1 if line[4].lower().startswith('[demon] обновляем подписку') else 0\n",
        "\n",
        "    #print(pays_d)\n",
        "    #print(pays_d.keys())\n",
        "\n",
        "    pays = []\n",
        "\n",
        "    for date, regs in pays_d.items():\n",
        "      pays.append(regs)\n",
        "\n",
        "    res = []\n",
        "\n",
        "    summ = 0\n",
        "    avg = []\n",
        "    mdn = []\n",
        "\n",
        "    for pay in pays:\n",
        "      res.append(pay)\n",
        "      res.sort()\n",
        "\n",
        "      avg.append(round(sum(res) / len(res), 2))\n",
        "      #avg.append(mean(res))\n",
        "\n",
        "      if len(res) % 2 != 0:\n",
        "        mdn.append(res[len(res) // 2])\n",
        "      else:\n",
        "        mdn.append(round((res[len(res) // 2 - 1] + res[len(res) // 2]) / 2))\n",
        "\n",
        "    #return f'{avg}\\n{mdn}'\n",
        "    with open('auto_renewal_sub.txt', 'w') as wr:\n",
        "      wr.write(f'Среднее: {avg}\\nМедиана: {mdn}')\n",
        "\n",
        "res = auto_renewal_sub('auto_purchase.log')"
      ]
    },
    {
      "cell_type": "markdown",
      "metadata": {
        "id": "GN_PNZICsxRD"
      },
      "source": [
        "✏️ ✏️ ✏️\n",
        "\n",
        "**Проверка**\n",
        "\n",
        "Чтобы проверить свое решение, запустите код в следующих ячейках"
      ]
    },
    {
      "cell_type": "code",
      "execution_count": null,
      "metadata": {
        "id": "tys9eJRSqcEW"
      },
      "outputs": [],
      "source": [
        "# Здесь будет скачиваться файл с эталонным ответом\n",
        "\n",
        "!wget https://gist.github.com/Vs8th/846cbc97a722ab825cda4dda3b2b3434/raw/cor_auto_renewal.txt\n",
        "\n",
        "import pandas as pd\n",
        "\n",
        "user_answer = pd.read_csv('auto_renewal_sub.txt')\n",
        "correct_answer = pd.read_csv('cor_auto_renewal.txt')"
      ]
    },
    {
      "cell_type": "code",
      "execution_count": null,
      "metadata": {
        "id": "a36bM9j9tD7l"
      },
      "outputs": [],
      "source": [
        "try:\n",
        "  assert (user_answer == correct_answer).all().all(), 'Ответы не совпадают'\n",
        "except Exception as err:\n",
        "  raise AssertionError(f'При проверке возникла ошибка {repr(err)}')\n",
        "else:\n",
        "  print('Поздравляем, Вы справились и успешно прошли все проверки!!')"
      ]
    },
    {
      "cell_type": "markdown",
      "metadata": {
        "id": "AwB-HtPLtjyl"
      },
      "source": [
        "#### **Задача 3**\n",
        "\n",
        "Напишите функцию `sub_renewal_by_day`, которая принимает на вход путь к файлу с логами и анализирует взаимосвязь дня продления подписки и количества продлений в этот день. Функция должна записать в файл `weekdays.txt` аналитическую записку в формате:\n",
        "\n",
        "**`Количество обновлений подписки по дням недели:`**\n",
        "\n",
        "**`Понедельник: 6`**\n",
        "\n",
        "**`Вторник: 7`**\n",
        "\n",
        "**`Среда: 8`**\n",
        "\n",
        "**`...`**"
      ]
    },
    {
      "cell_type": "markdown",
      "metadata": {
        "id": "GOTB--hmt2xw"
      },
      "source": [
        "**Решение**\n",
        "\n",
        "Напишите свое решение ниже"
      ]
    },
    {
      "cell_type": "code",
      "execution_count": 5,
      "metadata": {
        "id": "fz7nRb_ntKMv",
        "colab": {
          "base_uri": "https://localhost:8080/"
        },
        "outputId": "e482efbf-9749-4e7d-bf1a-a754ec7c6873"
      },
      "outputs": [
        {
          "output_type": "stream",
          "name": "stdout",
          "text": [
            "{'Monday': 136, 'Tuesday': 144, 'Wednesday': 162, 'Thursday': 169, 'Friday': 145, 'Saturday': 135, 'Sunday': 143}\n"
          ]
        }
      ],
      "source": [
        "from datetime import datetime\n",
        "\n",
        "\n",
        "def sub_renewal_by_day(file_path):\n",
        "  with open(file_path, 'r') as rf:\n",
        "    data = rf.readlines()\n",
        "\n",
        "    weeknames_d = {'Monday': 0,\n",
        "                   'Tuesday': 0,\n",
        "                   'Wednesday': 0,\n",
        "                   'Thursday': 0,\n",
        "                   'Friday': 0,\n",
        "                   'Saturday': 0,\n",
        "                   'Sunday': 0}\n",
        "\n",
        "    for row in data:\n",
        "        row = [el.strip() for el in row.split(' | ')]\n",
        "\n",
        "        if row[0] == 'ERROR' or row[4].startswith('[demon] Обновляем'):\n",
        "          date = datetime.strptime(row[1], '%Y-%m-%d %H:%M:%S,%f') # convert string into date\n",
        "          dayname = date.strftime('%A') # convert date into weekday name\n",
        "\n",
        "          if dayname in weeknames_d and row[0] != 'ERROR':\n",
        "            weeknames_d[dayname] += 1\n",
        "          else:\n",
        "            weeknames_d[dayname] -= 1\n",
        "\n",
        "    print(weeknames_d)\n",
        "\n",
        "\n",
        "    with open('weekdays.txt', 'w') as wf:\n",
        "      wf.write('Количество обновлений подписки по дням недели:\\n')\n",
        "      for day, cnt in weeknames_d.items():\n",
        "        wf.write(f'{day}: {cnt}\\n')\n",
        "\n",
        "\n",
        "sub_renewal_by_day('auto_purchase.log')"
      ]
    },
    {
      "cell_type": "markdown",
      "metadata": {
        "id": "0-7TiI06t8D0"
      },
      "source": [
        "✏️ ✏️ ✏️\n",
        "\n",
        "**Проверка**\n",
        "\n",
        "Чтобы проверить свое решение, запустите код в следующих ячейках"
      ]
    },
    {
      "cell_type": "code",
      "execution_count": null,
      "metadata": {
        "id": "eOzvKzYqt_UH"
      },
      "outputs": [],
      "source": [
        "# Здесь будет скачиваться файл с эталонным ответом\n",
        "\n",
        "!wget https://gist.github.com/Vs8th/c4c382f50761b5b9e64795eb89d49fda/raw/cor_weekdays.txt\n",
        "\n",
        "import pandas as pd\n",
        "\n",
        "user_answer = pd.read_csv('weekdays.txt')\n",
        "correct_answer = pd.read_csv('cor_weekdays.txt')"
      ]
    }
  ],
  "metadata": {
    "colab": {
      "provenance": [],
      "include_colab_link": true
    },
    "kernelspec": {
      "display_name": "Python 3",
      "name": "python3"
    },
    "language_info": {
      "name": "python"
    }
  },
  "nbformat": 4,
  "nbformat_minor": 0
}