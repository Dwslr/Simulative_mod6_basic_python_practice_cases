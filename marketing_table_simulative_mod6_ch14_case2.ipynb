{
  "cells": [
    {
      "cell_type": "markdown",
      "metadata": {
        "id": "view-in-github",
        "colab_type": "text"
      },
      "source": [
        "<a href=\"https://colab.research.google.com/github/Dwslr/Simulative_mod6_basic_python_practice_cases/blob/main/simulative_mod6_ch14_case2.ipynb\" target=\"_parent\"><img src=\"https://colab.research.google.com/assets/colab-badge.svg\" alt=\"Open In Colab\"/></a>"
      ]
    },
    {
      "cell_type": "markdown",
      "metadata": {
        "id": "T_xBU6WvyPhY"
      },
      "source": [
        "## 2 кейс\n",
        "\n",
        "**В этом кейсе вы будете рассчитывать:**\n",
        "* самую эффективную платформу\n",
        "* самый успешный тип рекламной кампании\n",
        "* географию\n",
        "* рекламные расходы по городам\n",
        "* даты, в которые не запускались кампании\n",
        "* и еще кое-что"
      ]
    },
    {
      "cell_type": "markdown",
      "metadata": {
        "id": "U2D5zGSdzc92"
      },
      "source": [
        "**Важно**\n",
        "\n",
        "Перед началом решения задачи выполните следующую ячейку - в ней скачиваются необходимые файлы.\n",
        "\n",
        "Работать вы будут с файлом `campaign_data.csv`."
      ]
    },
    {
      "cell_type": "code",
      "execution_count": null,
      "metadata": {
        "id": "3eJFMuMpyCp-"
      },
      "outputs": [],
      "source": [
        "%%capture\n",
        "\n",
        "!wget https://gist.github.com/Vs8th/73045f9fe675f43ef7e63ab56f1c08bd/raw/campaign_data.csv\n",
        "\n",
        "!wget https://gist.github.com/Vs8th/2d55f7828343a0b5e570b47552c3affe/raw/marketing_campaigns.txt\n",
        "\n",
        "!wget https://gist.github.com/Vs8th/ff57611e607f407b186805ae15b08f1c/raw/cor_platform.txt"
      ]
    },
    {
      "cell_type": "code",
      "execution_count": null,
      "metadata": {
        "colab": {
          "base_uri": "https://localhost:8080/",
          "height": 424
        },
        "id": "wDGa8T9iX4Nj",
        "outputId": "0795e9b3-2a43-493f-dc97-78ddc30018eb"
      },
      "outputs": [
        {
          "output_type": "execute_result",
          "data": {
            "text/plain": [
              "      ID Кампании Начальная дата Конечная дата           Тип кампании  \\\n",
              "0               1     2022-01-01    2022-11-30            Контекстная   \n",
              "1               2     2022-01-01    2022-08-27  Поисковая оптимизация   \n",
              "2               3     2022-01-02    2022-03-11              Баннерная   \n",
              "3               4     2022-01-02    2022-06-20           Видеореклама   \n",
              "4               8     2022-01-04    2022-12-06  Поисковая оптимизация   \n",
              "...           ...            ...           ...                    ...   \n",
              "1015         1240     2022-12-28    2022-12-29           Видеореклама   \n",
              "1016         1241     2022-12-28    2022-12-29    Нативная интеграция   \n",
              "1017         1243     2022-12-28    2022-12-30    Нативная интеграция   \n",
              "1018         1245     2022-12-29    2022-12-29  Поисковая оптимизация   \n",
              "1019         1246     2022-12-30    2022-12-30              Баннерная   \n",
              "\n",
              "      Платформа  Бюджет         Город  Показы   Клики  Конверсия  Доход  \n",
              "0      Telegram   35693        Казань  3217.0   507.0        188  44205  \n",
              "1     Вконтакте    1986        Москва  1362.0   305.0         95   9964  \n",
              "2     Instagram    2020  Екатеринбург  2420.0   541.0         87  14792  \n",
              "3        Google   18684        Москва   728.0   406.0         73  13824  \n",
              "4     Вконтакте   47936  Екатеринбург   356.0   129.0         31   3908  \n",
              "...         ...     ...           ...     ...     ...        ...    ...  \n",
              "1015  Instagram   24525        Калуга  5610.0   732.0         93  12208  \n",
              "1016   Telegram    2904  Екатеринбург   937.0   199.0         44   2839  \n",
              "1017   Telegram   27913        Казань  9309.0  1280.0        128  30575  \n",
              "1018     Google   23648   Новосибирск   854.0   252.0         71  17632  \n",
              "1019   Telegram    1909  Екатеринбург   848.0   228.0         31   4298  \n",
              "\n",
              "[1020 rows x 11 columns]"
            ],
            "text/html": [
              "\n",
              "  <div id=\"df-c6238734-d3c6-48f0-a184-aeaa55a36de0\" class=\"colab-df-container\">\n",
              "    <div>\n",
              "<style scoped>\n",
              "    .dataframe tbody tr th:only-of-type {\n",
              "        vertical-align: middle;\n",
              "    }\n",
              "\n",
              "    .dataframe tbody tr th {\n",
              "        vertical-align: top;\n",
              "    }\n",
              "\n",
              "    .dataframe thead th {\n",
              "        text-align: right;\n",
              "    }\n",
              "</style>\n",
              "<table border=\"1\" class=\"dataframe\">\n",
              "  <thead>\n",
              "    <tr style=\"text-align: right;\">\n",
              "      <th></th>\n",
              "      <th>ID Кампании</th>\n",
              "      <th>Начальная дата</th>\n",
              "      <th>Конечная дата</th>\n",
              "      <th>Тип кампании</th>\n",
              "      <th>Платформа</th>\n",
              "      <th>Бюджет</th>\n",
              "      <th>Город</th>\n",
              "      <th>Показы</th>\n",
              "      <th>Клики</th>\n",
              "      <th>Конверсия</th>\n",
              "      <th>Доход</th>\n",
              "    </tr>\n",
              "  </thead>\n",
              "  <tbody>\n",
              "    <tr>\n",
              "      <th>0</th>\n",
              "      <td>1</td>\n",
              "      <td>2022-01-01</td>\n",
              "      <td>2022-11-30</td>\n",
              "      <td>Контекстная</td>\n",
              "      <td>Telegram</td>\n",
              "      <td>35693</td>\n",
              "      <td>Казань</td>\n",
              "      <td>3217.0</td>\n",
              "      <td>507.0</td>\n",
              "      <td>188</td>\n",
              "      <td>44205</td>\n",
              "    </tr>\n",
              "    <tr>\n",
              "      <th>1</th>\n",
              "      <td>2</td>\n",
              "      <td>2022-01-01</td>\n",
              "      <td>2022-08-27</td>\n",
              "      <td>Поисковая оптимизация</td>\n",
              "      <td>Вконтакте</td>\n",
              "      <td>1986</td>\n",
              "      <td>Москва</td>\n",
              "      <td>1362.0</td>\n",
              "      <td>305.0</td>\n",
              "      <td>95</td>\n",
              "      <td>9964</td>\n",
              "    </tr>\n",
              "    <tr>\n",
              "      <th>2</th>\n",
              "      <td>3</td>\n",
              "      <td>2022-01-02</td>\n",
              "      <td>2022-03-11</td>\n",
              "      <td>Баннерная</td>\n",
              "      <td>Instagram</td>\n",
              "      <td>2020</td>\n",
              "      <td>Екатеринбург</td>\n",
              "      <td>2420.0</td>\n",
              "      <td>541.0</td>\n",
              "      <td>87</td>\n",
              "      <td>14792</td>\n",
              "    </tr>\n",
              "    <tr>\n",
              "      <th>3</th>\n",
              "      <td>4</td>\n",
              "      <td>2022-01-02</td>\n",
              "      <td>2022-06-20</td>\n",
              "      <td>Видеореклама</td>\n",
              "      <td>Google</td>\n",
              "      <td>18684</td>\n",
              "      <td>Москва</td>\n",
              "      <td>728.0</td>\n",
              "      <td>406.0</td>\n",
              "      <td>73</td>\n",
              "      <td>13824</td>\n",
              "    </tr>\n",
              "    <tr>\n",
              "      <th>4</th>\n",
              "      <td>8</td>\n",
              "      <td>2022-01-04</td>\n",
              "      <td>2022-12-06</td>\n",
              "      <td>Поисковая оптимизация</td>\n",
              "      <td>Вконтакте</td>\n",
              "      <td>47936</td>\n",
              "      <td>Екатеринбург</td>\n",
              "      <td>356.0</td>\n",
              "      <td>129.0</td>\n",
              "      <td>31</td>\n",
              "      <td>3908</td>\n",
              "    </tr>\n",
              "    <tr>\n",
              "      <th>...</th>\n",
              "      <td>...</td>\n",
              "      <td>...</td>\n",
              "      <td>...</td>\n",
              "      <td>...</td>\n",
              "      <td>...</td>\n",
              "      <td>...</td>\n",
              "      <td>...</td>\n",
              "      <td>...</td>\n",
              "      <td>...</td>\n",
              "      <td>...</td>\n",
              "      <td>...</td>\n",
              "    </tr>\n",
              "    <tr>\n",
              "      <th>1015</th>\n",
              "      <td>1240</td>\n",
              "      <td>2022-12-28</td>\n",
              "      <td>2022-12-29</td>\n",
              "      <td>Видеореклама</td>\n",
              "      <td>Instagram</td>\n",
              "      <td>24525</td>\n",
              "      <td>Калуга</td>\n",
              "      <td>5610.0</td>\n",
              "      <td>732.0</td>\n",
              "      <td>93</td>\n",
              "      <td>12208</td>\n",
              "    </tr>\n",
              "    <tr>\n",
              "      <th>1016</th>\n",
              "      <td>1241</td>\n",
              "      <td>2022-12-28</td>\n",
              "      <td>2022-12-29</td>\n",
              "      <td>Нативная интеграция</td>\n",
              "      <td>Telegram</td>\n",
              "      <td>2904</td>\n",
              "      <td>Екатеринбург</td>\n",
              "      <td>937.0</td>\n",
              "      <td>199.0</td>\n",
              "      <td>44</td>\n",
              "      <td>2839</td>\n",
              "    </tr>\n",
              "    <tr>\n",
              "      <th>1017</th>\n",
              "      <td>1243</td>\n",
              "      <td>2022-12-28</td>\n",
              "      <td>2022-12-30</td>\n",
              "      <td>Нативная интеграция</td>\n",
              "      <td>Telegram</td>\n",
              "      <td>27913</td>\n",
              "      <td>Казань</td>\n",
              "      <td>9309.0</td>\n",
              "      <td>1280.0</td>\n",
              "      <td>128</td>\n",
              "      <td>30575</td>\n",
              "    </tr>\n",
              "    <tr>\n",
              "      <th>1018</th>\n",
              "      <td>1245</td>\n",
              "      <td>2022-12-29</td>\n",
              "      <td>2022-12-29</td>\n",
              "      <td>Поисковая оптимизация</td>\n",
              "      <td>Google</td>\n",
              "      <td>23648</td>\n",
              "      <td>Новосибирск</td>\n",
              "      <td>854.0</td>\n",
              "      <td>252.0</td>\n",
              "      <td>71</td>\n",
              "      <td>17632</td>\n",
              "    </tr>\n",
              "    <tr>\n",
              "      <th>1019</th>\n",
              "      <td>1246</td>\n",
              "      <td>2022-12-30</td>\n",
              "      <td>2022-12-30</td>\n",
              "      <td>Баннерная</td>\n",
              "      <td>Telegram</td>\n",
              "      <td>1909</td>\n",
              "      <td>Екатеринбург</td>\n",
              "      <td>848.0</td>\n",
              "      <td>228.0</td>\n",
              "      <td>31</td>\n",
              "      <td>4298</td>\n",
              "    </tr>\n",
              "  </tbody>\n",
              "</table>\n",
              "<p>1020 rows × 11 columns</p>\n",
              "</div>\n",
              "    <div class=\"colab-df-buttons\">\n",
              "\n",
              "  <div class=\"colab-df-container\">\n",
              "    <button class=\"colab-df-convert\" onclick=\"convertToInteractive('df-c6238734-d3c6-48f0-a184-aeaa55a36de0')\"\n",
              "            title=\"Convert this dataframe to an interactive table.\"\n",
              "            style=\"display:none;\">\n",
              "\n",
              "  <svg xmlns=\"http://www.w3.org/2000/svg\" height=\"24px\" viewBox=\"0 -960 960 960\">\n",
              "    <path d=\"M120-120v-720h720v720H120Zm60-500h600v-160H180v160Zm220 220h160v-160H400v160Zm0 220h160v-160H400v160ZM180-400h160v-160H180v160Zm440 0h160v-160H620v160ZM180-180h160v-160H180v160Zm440 0h160v-160H620v160Z\"/>\n",
              "  </svg>\n",
              "    </button>\n",
              "\n",
              "  <style>\n",
              "    .colab-df-container {\n",
              "      display:flex;\n",
              "      gap: 12px;\n",
              "    }\n",
              "\n",
              "    .colab-df-convert {\n",
              "      background-color: #E8F0FE;\n",
              "      border: none;\n",
              "      border-radius: 50%;\n",
              "      cursor: pointer;\n",
              "      display: none;\n",
              "      fill: #1967D2;\n",
              "      height: 32px;\n",
              "      padding: 0 0 0 0;\n",
              "      width: 32px;\n",
              "    }\n",
              "\n",
              "    .colab-df-convert:hover {\n",
              "      background-color: #E2EBFA;\n",
              "      box-shadow: 0px 1px 2px rgba(60, 64, 67, 0.3), 0px 1px 3px 1px rgba(60, 64, 67, 0.15);\n",
              "      fill: #174EA6;\n",
              "    }\n",
              "\n",
              "    .colab-df-buttons div {\n",
              "      margin-bottom: 4px;\n",
              "    }\n",
              "\n",
              "    [theme=dark] .colab-df-convert {\n",
              "      background-color: #3B4455;\n",
              "      fill: #D2E3FC;\n",
              "    }\n",
              "\n",
              "    [theme=dark] .colab-df-convert:hover {\n",
              "      background-color: #434B5C;\n",
              "      box-shadow: 0px 1px 3px 1px rgba(0, 0, 0, 0.15);\n",
              "      filter: drop-shadow(0px 1px 2px rgba(0, 0, 0, 0.3));\n",
              "      fill: #FFFFFF;\n",
              "    }\n",
              "  </style>\n",
              "\n",
              "    <script>\n",
              "      const buttonEl =\n",
              "        document.querySelector('#df-c6238734-d3c6-48f0-a184-aeaa55a36de0 button.colab-df-convert');\n",
              "      buttonEl.style.display =\n",
              "        google.colab.kernel.accessAllowed ? 'block' : 'none';\n",
              "\n",
              "      async function convertToInteractive(key) {\n",
              "        const element = document.querySelector('#df-c6238734-d3c6-48f0-a184-aeaa55a36de0');\n",
              "        const dataTable =\n",
              "          await google.colab.kernel.invokeFunction('convertToInteractive',\n",
              "                                                    [key], {});\n",
              "        if (!dataTable) return;\n",
              "\n",
              "        const docLinkHtml = 'Like what you see? Visit the ' +\n",
              "          '<a target=\"_blank\" href=https://colab.research.google.com/notebooks/data_table.ipynb>data table notebook</a>'\n",
              "          + ' to learn more about interactive tables.';\n",
              "        element.innerHTML = '';\n",
              "        dataTable['output_type'] = 'display_data';\n",
              "        await google.colab.output.renderOutput(dataTable, element);\n",
              "        const docLink = document.createElement('div');\n",
              "        docLink.innerHTML = docLinkHtml;\n",
              "        element.appendChild(docLink);\n",
              "      }\n",
              "    </script>\n",
              "  </div>\n",
              "\n",
              "\n",
              "<div id=\"df-6d8385ef-9d76-4815-9fc4-f45aaf32abe0\">\n",
              "  <button class=\"colab-df-quickchart\" onclick=\"quickchart('df-6d8385ef-9d76-4815-9fc4-f45aaf32abe0')\"\n",
              "            title=\"Suggest charts\"\n",
              "            style=\"display:none;\">\n",
              "\n",
              "<svg xmlns=\"http://www.w3.org/2000/svg\" height=\"24px\"viewBox=\"0 0 24 24\"\n",
              "     width=\"24px\">\n",
              "    <g>\n",
              "        <path d=\"M19 3H5c-1.1 0-2 .9-2 2v14c0 1.1.9 2 2 2h14c1.1 0 2-.9 2-2V5c0-1.1-.9-2-2-2zM9 17H7v-7h2v7zm4 0h-2V7h2v10zm4 0h-2v-4h2v4z\"/>\n",
              "    </g>\n",
              "</svg>\n",
              "  </button>\n",
              "\n",
              "<style>\n",
              "  .colab-df-quickchart {\n",
              "      --bg-color: #E8F0FE;\n",
              "      --fill-color: #1967D2;\n",
              "      --hover-bg-color: #E2EBFA;\n",
              "      --hover-fill-color: #174EA6;\n",
              "      --disabled-fill-color: #AAA;\n",
              "      --disabled-bg-color: #DDD;\n",
              "  }\n",
              "\n",
              "  [theme=dark] .colab-df-quickchart {\n",
              "      --bg-color: #3B4455;\n",
              "      --fill-color: #D2E3FC;\n",
              "      --hover-bg-color: #434B5C;\n",
              "      --hover-fill-color: #FFFFFF;\n",
              "      --disabled-bg-color: #3B4455;\n",
              "      --disabled-fill-color: #666;\n",
              "  }\n",
              "\n",
              "  .colab-df-quickchart {\n",
              "    background-color: var(--bg-color);\n",
              "    border: none;\n",
              "    border-radius: 50%;\n",
              "    cursor: pointer;\n",
              "    display: none;\n",
              "    fill: var(--fill-color);\n",
              "    height: 32px;\n",
              "    padding: 0;\n",
              "    width: 32px;\n",
              "  }\n",
              "\n",
              "  .colab-df-quickchart:hover {\n",
              "    background-color: var(--hover-bg-color);\n",
              "    box-shadow: 0 1px 2px rgba(60, 64, 67, 0.3), 0 1px 3px 1px rgba(60, 64, 67, 0.15);\n",
              "    fill: var(--button-hover-fill-color);\n",
              "  }\n",
              "\n",
              "  .colab-df-quickchart-complete:disabled,\n",
              "  .colab-df-quickchart-complete:disabled:hover {\n",
              "    background-color: var(--disabled-bg-color);\n",
              "    fill: var(--disabled-fill-color);\n",
              "    box-shadow: none;\n",
              "  }\n",
              "\n",
              "  .colab-df-spinner {\n",
              "    border: 2px solid var(--fill-color);\n",
              "    border-color: transparent;\n",
              "    border-bottom-color: var(--fill-color);\n",
              "    animation:\n",
              "      spin 1s steps(1) infinite;\n",
              "  }\n",
              "\n",
              "  @keyframes spin {\n",
              "    0% {\n",
              "      border-color: transparent;\n",
              "      border-bottom-color: var(--fill-color);\n",
              "      border-left-color: var(--fill-color);\n",
              "    }\n",
              "    20% {\n",
              "      border-color: transparent;\n",
              "      border-left-color: var(--fill-color);\n",
              "      border-top-color: var(--fill-color);\n",
              "    }\n",
              "    30% {\n",
              "      border-color: transparent;\n",
              "      border-left-color: var(--fill-color);\n",
              "      border-top-color: var(--fill-color);\n",
              "      border-right-color: var(--fill-color);\n",
              "    }\n",
              "    40% {\n",
              "      border-color: transparent;\n",
              "      border-right-color: var(--fill-color);\n",
              "      border-top-color: var(--fill-color);\n",
              "    }\n",
              "    60% {\n",
              "      border-color: transparent;\n",
              "      border-right-color: var(--fill-color);\n",
              "    }\n",
              "    80% {\n",
              "      border-color: transparent;\n",
              "      border-right-color: var(--fill-color);\n",
              "      border-bottom-color: var(--fill-color);\n",
              "    }\n",
              "    90% {\n",
              "      border-color: transparent;\n",
              "      border-bottom-color: var(--fill-color);\n",
              "    }\n",
              "  }\n",
              "</style>\n",
              "\n",
              "  <script>\n",
              "    async function quickchart(key) {\n",
              "      const quickchartButtonEl =\n",
              "        document.querySelector('#' + key + ' button');\n",
              "      quickchartButtonEl.disabled = true;  // To prevent multiple clicks.\n",
              "      quickchartButtonEl.classList.add('colab-df-spinner');\n",
              "      try {\n",
              "        const charts = await google.colab.kernel.invokeFunction(\n",
              "            'suggestCharts', [key], {});\n",
              "      } catch (error) {\n",
              "        console.error('Error during call to suggestCharts:', error);\n",
              "      }\n",
              "      quickchartButtonEl.classList.remove('colab-df-spinner');\n",
              "      quickchartButtonEl.classList.add('colab-df-quickchart-complete');\n",
              "    }\n",
              "    (() => {\n",
              "      let quickchartButtonEl =\n",
              "        document.querySelector('#df-6d8385ef-9d76-4815-9fc4-f45aaf32abe0 button');\n",
              "      quickchartButtonEl.style.display =\n",
              "        google.colab.kernel.accessAllowed ? 'block' : 'none';\n",
              "    })();\n",
              "  </script>\n",
              "</div>\n",
              "    </div>\n",
              "  </div>\n"
            ]
          },
          "metadata": {},
          "execution_count": 2
        }
      ],
      "source": [
        "import pandas as pd\n",
        "\n",
        "df = pd.read_csv('campaign_data.csv')\n",
        "df"
      ]
    },
    {
      "cell_type": "markdown",
      "metadata": {
        "id": "s2g2hxfMzqLo"
      },
      "source": [
        "### **Найдите самую эффективную платформу по средним значениям конверсий**\n",
        "\n",
        "Cохраните результат в переменную `most_effective_platform`"
      ]
    },
    {
      "cell_type": "code",
      "execution_count": null,
      "metadata": {
        "id": "kMud5CxdqIx_"
      },
      "outputs": [],
      "source": [
        "# Сделал интересующие импорты и функцию чтения csv файла с исходными данными\n",
        "import csv\n",
        "from statistics import mean\n",
        "\n",
        "\n",
        "def read_csv(csv_path: str):\n",
        "  with open(csv_path, 'r', newline='') as r_csv:\n",
        "    data = list(csv.reader(r_csv, delimiter=',', quotechar='\"'))\n",
        "    #[print(row) for row in data[0:5]]\n",
        "\n",
        "    return data\n",
        "\n",
        "data1 = read_csv('campaign_data.csv')"
      ]
    },
    {
      "cell_type": "code",
      "execution_count": null,
      "metadata": {
        "colab": {
          "base_uri": "https://localhost:8080/"
        },
        "id": "YNCqtyXsYtn4",
        "outputId": "48edef53-05f4-4a22-e64c-7960e7e6a7b6"
      },
      "outputs": [
        {
          "output_type": "stream",
          "name": "stdout",
          "text": [
            "Instagram\n",
            "CPU times: user 1.38 ms, sys: 0 ns, total: 1.38 ms\n",
            "Wall time: 1.37 ms\n"
          ]
        }
      ],
      "source": [
        "%%time\n",
        "# v2\n",
        "\n",
        "def calc_conv(data: list, column1: int):\n",
        "    # Extract platform and conversion rate from data\n",
        "    req_data = [(row[column1], float(row[9])) for row in data[1:]]\n",
        "\n",
        "    # Create a dictionary to accumulate conversion rates for each platform\n",
        "    platf_conver = {platf: [] for platf, _ in req_data}\n",
        "\n",
        "    # Accumulate conversion rates for each platform\n",
        "    for platf, conv in req_data:\n",
        "        platf_conver[platf].append(conv)\n",
        "\n",
        "    # Compute the average conversion rate for each platform\n",
        "    platf_avg_conv = {platf: round(mean(conv), 3) for platf, conv in platf_conver.items()}\n",
        "\n",
        "    # Find the platform with the highest average conversion rate#\n",
        "    #max_conv_plat = max(conv_avg_d.items(), key=lambda x: x[1])[0] #v1\n",
        "    #max_conv_plat = reduce(lambda x,y: x if x[1] > y[1] else y, conv_avg_d.items()) #v2\n",
        "    platf_conv_best = max(platf_avg_conv, key=platf_avg_conv.get) #v3\n",
        "\n",
        "    print(platf_conv_best)\n",
        "    return platf_conv_best\n",
        "\n",
        "\n",
        "most_effective_platform = calc_conv(data1, 4)"
      ]
    },
    {
      "cell_type": "code",
      "execution_count": null,
      "metadata": {
        "cellView": "form",
        "colab": {
          "base_uri": "https://localhost:8080/"
        },
        "id": "YGydKAis0Ae9",
        "outputId": "3323b834-0218-49d5-e50b-7f8b7b221f62"
      },
      "outputs": [
        {
          "output_type": "stream",
          "name": "stdout",
          "text": [
            "Поздравляем, Вы справились!\n"
          ]
        }
      ],
      "source": [
        "#@title ✏️ Проверка: чтобы проверить свое решение запустите код в этой ячейке\n",
        "# Открываем файл с правильными ответами\n",
        "with open('marketing_campaigns.txt', 'r') as f:\n",
        "    answers = f.read().split('\\n')\n",
        "\n",
        "correct_answer = answers[0]\n",
        "\n",
        "try:\n",
        "    assert most_effective_platform == correct_answer\n",
        "except AssertionError:\n",
        "    print('Ответы не совпадают')\n",
        "else:\n",
        "    print('Поздравляем, Вы справились!')"
      ]
    },
    {
      "cell_type": "markdown",
      "metadata": {
        "id": "TbkdEVLI0Cor"
      },
      "source": [
        "### **Найдите самый успешный тип рекламной кампании по средним значениям конверсий**\n",
        "\n",
        "Сохраните результат в переменную `most_successful_campaign_type`"
      ]
    },
    {
      "cell_type": "code",
      "execution_count": null,
      "metadata": {
        "colab": {
          "base_uri": "https://localhost:8080/"
        },
        "id": "keCBmUDJ0Hho",
        "outputId": "abfab679-b5cd-49b6-f78e-d96901c25e93"
      },
      "outputs": [
        {
          "output_type": "stream",
          "name": "stdout",
          "text": [
            "Контекстная\n"
          ]
        }
      ],
      "source": [
        "# Ваше решение\n",
        "most_successful_campaign_type = calc_conv(data1, 3)"
      ]
    },
    {
      "cell_type": "code",
      "execution_count": null,
      "metadata": {
        "cellView": "form",
        "colab": {
          "base_uri": "https://localhost:8080/"
        },
        "id": "fTwUwQZ40JCl",
        "outputId": "ac71f25a-07bb-47a7-ea33-a20582adfb59"
      },
      "outputs": [
        {
          "output_type": "stream",
          "name": "stdout",
          "text": [
            "Поздравляем, Вы справились!\n"
          ]
        }
      ],
      "source": [
        "#@title ✏️ Проверка: чтобы проверить свое решение запустите код в этой ячейке\n",
        "correct_answer = answers[1]\n",
        "\n",
        "try:\n",
        "    assert most_successful_campaign_type == correct_answer\n",
        "except AssertionError:\n",
        "    print('Ответы не совпадают')\n",
        "else:\n",
        "    print('Поздравляем, Вы справились!')"
      ]
    },
    {
      "cell_type": "markdown",
      "metadata": {
        "id": "wxkhEVmF0PAo"
      },
      "source": [
        "### **Найдите самый успешный город проведения кампании по средним значениям конверсий**\n",
        "\n",
        "Сохраните результат в переменную `most_successful_city`"
      ]
    },
    {
      "cell_type": "code",
      "execution_count": null,
      "metadata": {
        "colab": {
          "base_uri": "https://localhost:8080/"
        },
        "id": "KS17l5Ux0UD3",
        "outputId": "046b6076-bb23-46ad-a176-734933802835"
      },
      "outputs": [
        {
          "output_type": "stream",
          "name": "stdout",
          "text": [
            "Новосибирск\n"
          ]
        }
      ],
      "source": [
        "# Ваше решение\n",
        "most_successful_city = calc_conv(data1, 6)"
      ]
    },
    {
      "cell_type": "code",
      "execution_count": null,
      "metadata": {
        "cellView": "form",
        "colab": {
          "base_uri": "https://localhost:8080/"
        },
        "id": "k7s0V8hF0Vmx",
        "outputId": "93678236-ee66-4e2c-b509-c6bd8e682437"
      },
      "outputs": [
        {
          "output_type": "stream",
          "name": "stdout",
          "text": [
            "Поздравляем, Вы справились!\n"
          ]
        }
      ],
      "source": [
        "#@title ✏️ Проверка: чтобы проверить свое решение запустите код в этой ячейке\n",
        "correct_answer = answers[2]\n",
        "\n",
        "try:\n",
        "    assert most_successful_city == correct_answer\n",
        "except AssertionError:\n",
        "    print('Ответы не совпадают')\n",
        "else:\n",
        "    print('Поздравляем, Вы справились!')"
      ]
    },
    {
      "cell_type": "markdown",
      "metadata": {
        "id": "OrwoZ-wR0jJq"
      },
      "source": [
        "### **Посчитайте долю затрат на рекламные кампании каждой платформы и каждого города**\n",
        "\n",
        "Сохраните результат в файл `platform_city_results.txt`"
      ]
    },
    {
      "cell_type": "markdown",
      "metadata": {
        "id": "WR6M7ooveTp-"
      },
      "source": [
        "Результат должен выглядеть примерно так:\n",
        "\n",
        "```\n",
        "Для группы Telegram:\n",
        "- Город: Москва, доля затрат на рекламу: 16.46%\n",
        "- Город: Калуга, доля затрат на рекламу: 16.2%\n",
        "- Город: Казань, доля затрат на рекламу: 14.57%\n",
        "- ...\n",
        "Для группы Вконтакте:\n",
        "- Город: Екатеринбург, доля затрат на рекламу: 17.43%\n",
        "- Город: Новосибирск, доля затрат на рекламу: 14.86%\n",
        "- Город: Санкт-Петербург, доля затрат на рекламу: 14.13%\n",
        "...\n",
        "```\n",
        "\n",
        "Города внутри групп платформ должны быть отсотированы по убыванию доли затрат, а доля затрат должны быть округлена до 2 знаков после запятой."
      ]
    },
    {
      "cell_type": "code",
      "execution_count": null,
      "metadata": {
        "colab": {
          "base_uri": "https://localhost:8080/"
        },
        "id": "hKN7vidq0mJ3",
        "outputId": "441a2faf-9f5a-4a36-dac2-2d84c3983f50"
      },
      "outputs": [
        {
          "output_type": "stream",
          "name": "stdout",
          "text": [
            "CPU times: user 2.24 ms, sys: 0 ns, total: 2.24 ms\n",
            "Wall time: 2.2 ms\n"
          ]
        }
      ],
      "source": [
        "%%time\n",
        "# Ваше решение\n",
        "def calc_mark_cost(data: list):\n",
        "  req_data = [[row[4], float(row[5]), row[6]] for row in data[1:]]\n",
        "\n",
        "  platf_data = {}\n",
        "\n",
        "  for platf, value, city in req_data:\n",
        "    if platf not in platf_data:\n",
        "      platf_data[platf] = {}\n",
        "    if city not in platf_data[platf]:\n",
        "      platf_data[platf][city] = 0\n",
        "    platf_data[platf][city] += value\n",
        "\n",
        "  with open('platform_city_results.txt', 'w') as wf:\n",
        "    for platf, city in platf_data.items():\n",
        "      sorted_cities = sorted(city.items(), key=lambda x: x[1], reverse=True)\n",
        "      print(f'Для группы {platf}:', file=wf)\n",
        "\n",
        "      for name_city, cost in sorted_cities:\n",
        "        cost_share = round(cost / sum(city.values()) * 100, 2)\n",
        "        print(f'- Город: {name_city}, доля затрат на рекламу: {cost_share}%', file=wf)\n",
        "\n",
        "\n",
        "calc_mark_cost(data1)"
      ]
    },
    {
      "cell_type": "code",
      "execution_count": null,
      "metadata": {
        "cellView": "form",
        "colab": {
          "base_uri": "https://localhost:8080/"
        },
        "id": "14KnR1gD0ou9",
        "outputId": "b26ce83b-35b9-44a1-dcec-c221f0d0e35f"
      },
      "outputs": [
        {
          "output_type": "stream",
          "name": "stdout",
          "text": [
            "Поздравляем, Вы справились и успешно прошли все проверки!!\n"
          ]
        }
      ],
      "source": [
        "#@title ✏️ Проверка: чтобы проверить свое решение запустите код в этой ячейке\n",
        "\n",
        "with open('platform_city_results.txt', 'r') as file:\n",
        "    user_answer = file.readlines()\n",
        "\n",
        "with open('cor_platform.txt', 'r') as file:\n",
        "    correct_answer = file.readlines()\n",
        "\n",
        "try:\n",
        "    assert user_answer == correct_answer, 'Ответы не совпадают'\n",
        "except Exception as err:\n",
        "    raise AssertionError(f'При проверке возникла ошибка {repr(err)}')\n",
        "else:\n",
        "    print('Поздравляем, Вы справились и успешно прошли все проверки!!')"
      ]
    },
    {
      "cell_type": "markdown",
      "metadata": {
        "id": "QuO3ZwRI5mdH"
      },
      "source": [
        "### **Напишите функцию, которая возвращает средний бюджет всех кампаний, запущенных на определенной платформе**\n",
        "\n",
        "Функция `calculate_average_budget` должна принимать путь к файлу и название плафтормы и возвращать число - средний бюджет всех кампаний, запущенных на данной платформе, округленный до двух знаков после запятой."
      ]
    },
    {
      "cell_type": "code",
      "execution_count": null,
      "metadata": {
        "colab": {
          "base_uri": "https://localhost:8080/"
        },
        "id": "HxGWkaSp5kpo",
        "outputId": "1dc674cb-e43b-4e2a-8c59-4ff5c1a98d3b"
      },
      "outputs": [
        {
          "output_type": "execute_result",
          "data": {
            "text/plain": [
              "24346.03"
            ]
          },
          "metadata": {},
          "execution_count": 8
        }
      ],
      "source": [
        "def calculate_average_budget(csv_file_path: str, platform: str):\n",
        "  with open(csv_file_path, 'r', newline='') as open_csv_read:\n",
        "    data = list(csv.reader(open_csv_read, delimiter=',', quotechar='\"'))\n",
        "    #[print(row) for row in data[1:5]]\n",
        "\n",
        "    req_data = [(row[4], float(row[5])) for row in data[1:]]\n",
        "    #print(req_data)\n",
        "\n",
        "    platf_cost = {platf: [] for platf, cost in req_data}\n",
        "    #print(platf_cost)\n",
        "\n",
        "    for platf, cost in req_data:\n",
        "      platf_cost[platf].append(cost)\n",
        "\n",
        "    platf_avg_cost = {platf: round(mean(cost), 2) for platf, cost in platf_cost.items()}\n",
        "    #print(platf_avg_cost)\n",
        "\n",
        "    res = platf_avg_cost.get(platform)\n",
        "\n",
        "    #print(res)\n",
        "    return res\n",
        "\n",
        "\n",
        "calculate_average_budget('campaign_data.csv', 'Telegram')"
      ]
    },
    {
      "cell_type": "code",
      "execution_count": null,
      "metadata": {
        "cellView": "form",
        "colab": {
          "base_uri": "https://localhost:8080/"
        },
        "id": "dpK4clbe5xiH",
        "outputId": "67b187fc-4217-4104-ed7c-114a62d0feba"
      },
      "outputs": [
        {
          "output_type": "stream",
          "name": "stdout",
          "text": [
            "Поздравляем, Вы справились!\n"
          ]
        }
      ],
      "source": [
        "#@title ✏️ Проверка: чтобы проверить свое решение запустите код в этой ячейке\n",
        "correct_answer = answers[3]\n",
        "user_answer = str(calculate_average_budget('campaign_data.csv', 'Google'))\n",
        "\n",
        "try:\n",
        "    assert user_answer == correct_answer\n",
        "except AssertionError:\n",
        "    print('Ответы не совпадают')\n",
        "else:\n",
        "    print('Поздравляем, Вы справились!')"
      ]
    },
    {
      "cell_type": "code",
      "execution_count": null,
      "metadata": {
        "colab": {
          "base_uri": "https://localhost:8080/"
        },
        "id": "JZJiVbM-yiQe",
        "outputId": "64efeacf-4304-4687-d99a-f536e60ec25d",
        "cellView": "form"
      },
      "outputs": [
        {
          "output_type": "stream",
          "name": "stdout",
          "text": [
            "Поздравляем, Вы справились!\n"
          ]
        }
      ],
      "source": [
        "#@title ✏️ Еще одна проверка: чтобы проверить свое решение запустите код в этой ячейке\n",
        "correct_answer = answers[4]\n",
        "user_answer = str(calculate_average_budget('campaign_data.csv', 'Вконтакте'))\n",
        "\n",
        "try:\n",
        "    assert user_answer == correct_answer\n",
        "except AssertionError:\n",
        "    print('Ответы не совпадают')\n",
        "else:\n",
        "    print('Поздравляем, Вы справились!')"
      ]
    },
    {
      "cell_type": "markdown",
      "metadata": {
        "id": "QxiawT4of4Xj"
      },
      "source": [
        "### **Напишите генератор, который будет генерировать даты, в которые НЕ запускались кампании**\n",
        "\n",
        "Функция `get_missing_campaign_dates` должна принимать путь к файлу и генерировать построчно даты, отсортированные по возрастанию, в которые не запускались кампании, в формате:\n",
        "\n",
        "```\n",
        "2022-02-29\n",
        "2022-03-28\n",
        "2022-03-29\n",
        "2022-05-30\n",
        "2022-06-13\n",
        "2022-06-27\n",
        "...\n",
        "```"
      ]
    },
    {
      "cell_type": "code",
      "execution_count": null,
      "metadata": {
        "id": "urEWcCuk522y",
        "colab": {
          "base_uri": "https://localhost:8080/"
        },
        "outputId": "202c4aa7-b1ab-4ddf-e377-f2fa548ce639"
      },
      "outputs": [
        {
          "output_type": "execute_result",
          "data": {
            "text/plain": [
              "<generator object get_missing_campaign_dates at 0x7c6750475a10>"
            ]
          },
          "metadata": {},
          "execution_count": 65
        }
      ],
      "source": [
        "from datetime import datetime, timedelta\n",
        "\n",
        "def get_missing_campaign_dates(csv_path: str):\n",
        "\n",
        "    with open(csv_path, 'r') as op_csv:\n",
        "      data = list(csv.reader(op_csv))\n",
        "      #[print(row) for row in data[:10]]\n",
        "\n",
        "      req_data = [row[1] for row in data[1:]]\n",
        "      #print(req_data)\n",
        "\n",
        "      dates_camp = []\n",
        "      [dates_camp.append(datetime.strptime(date, '%Y-%m-%d')) for date in req_data if date not in dates_camp]\n",
        "      #print(dates_camp)\n",
        "\n",
        "      start_date = dates_camp[0]\n",
        "      end_date = dates_camp[-1]\n",
        "      all_dates = [start_date + timedelta(days=i) for i in range((end_date - start_date).days + 1)]\n",
        "      #print(all_dates)\n",
        "\n",
        "\n",
        "      yield from (date for date in all_dates if date not in dates_camp)\n",
        "\n",
        "\n",
        "\n",
        "\n",
        "get_missing_campaign_dates('campaign_data.csv')"
      ]
    },
    {
      "cell_type": "code",
      "execution_count": null,
      "metadata": {
        "cellView": "form",
        "colab": {
          "base_uri": "https://localhost:8080/"
        },
        "id": "xziXbjnJ549b",
        "outputId": "93039ab6-4a56-435d-954b-49c32183d261"
      },
      "outputs": [
        {
          "output_type": "stream",
          "name": "stdout",
          "text": [
            "Поздравляем, Вы справились!\n"
          ]
        }
      ],
      "source": [
        "#@title ✏️ Проверка: чтобы проверить свое решение запустите код в этой ячейке\n",
        "from datetime import date\n",
        "\n",
        "correct_answer = answers[5]\n",
        "\n",
        "missing_dates = get_missing_campaign_dates('campaign_data.csv')\n",
        "user_answer = []\n",
        "for date in missing_dates:\n",
        "    a = date.strftime('%Y-%m-%d')\n",
        "    user_answer.append(a)\n",
        "\n",
        "try:\n",
        "    assert str(user_answer) == correct_answer\n",
        "except AssertionError:\n",
        "    print('Ответы не совпадают')\n",
        "else:\n",
        "    print('Поздравляем, Вы справились!')"
      ]
    },
    {
      "cell_type": "markdown",
      "metadata": {
        "id": "6wxnUGpkhktX"
      },
      "source": [
        "### **Напишите функцию, которая будет принимать на вход путь к файлу и возвращать сгруппированные данные по городам, содержащие суммарный бюджет и количество кликов**\n",
        "\n",
        "Функция `group_campaign_data` должна возвращать список словарей, отсортированный по городам, в формате:\n",
        "\n",
        "```python\n",
        "[{'Город': 'Нижний Новгород',\n",
        "  'Количество кликов': 616.0,\n",
        "  'Суммарный бюджет': 27585},\n",
        " {'Город': 'Новосибирск',\n",
        "  'Количество кликов': 733.0,\n",
        "  'Суммарный бюджет': 33001},\n",
        "  ...]\n",
        "```"
      ]
    },
    {
      "cell_type": "code",
      "execution_count": null,
      "metadata": {
        "id": "hv7Nz3TN59Ds",
        "colab": {
          "base_uri": "https://localhost:8080/"
        },
        "outputId": "8e563962-327a-4a9e-b568-fe3d89059914"
      },
      "outputs": [
        {
          "output_type": "execute_result",
          "data": {
            "text/plain": [
              "[{'Город': 'Екатеринбург',\n",
              "  'Количество кликов': 82104.0,\n",
              "  'Суммарный бюджет': 3742631},\n",
              " {'Город': 'Казань',\n",
              "  'Количество кликов': 68353.0,\n",
              "  'Суммарный бюджет': 3138271},\n",
              " {'Город': 'Калуга',\n",
              "  'Количество кликов': 72801.0,\n",
              "  'Суммарный бюджет': 3434585},\n",
              " {'Город': 'Краснодар',\n",
              "  'Количество кликов': 63965.0,\n",
              "  'Суммарный бюджет': 3165896},\n",
              " {'Город': 'Москва',\n",
              "  'Количество кликов': 69939.0,\n",
              "  'Суммарный бюджет': 3003448},\n",
              " {'Город': 'Нижний Новгород',\n",
              "  'Количество кликов': 65416.0,\n",
              "  'Суммарный бюджет': 2730585},\n",
              " {'Город': 'Новосибирск',\n",
              "  'Количество кликов': 73303.0,\n",
              "  'Суммарный бюджет': 3363001},\n",
              " {'Город': 'Санкт-Петербург',\n",
              "  'Количество кликов': 66266.0,\n",
              "  'Суммарный бюджет': 3254148}]"
            ]
          },
          "metadata": {},
          "execution_count": 152
        }
      ],
      "source": [
        "def group_campaign_data(csv_path: str):\n",
        "  with open(csv_path, 'r') as op_csv:\n",
        "    data = list(csv.reader(op_csv))\n",
        "    #[print(row) for row in data[0:5]]\n",
        "\n",
        "    req_data = [(row[5], row[6], row[8]) for row in data[1:]]\n",
        "    #print(req_data)\n",
        "\n",
        "    opt_data = [(city, float(click), int(cost)) for cost, city, click in req_data]\n",
        "    #print(opt_data)\n",
        "\n",
        "    city_data = {}\n",
        "\n",
        "    for city, click, cost in opt_data:\n",
        "        if city not in city_data:\n",
        "          city_data[city] = {'Город': city, 'Количество кликов': click, 'Суммарный бюджет': cost}\n",
        "        else:\n",
        "          city_data[city]['Количество кликов'] += click\n",
        "          city_data[city]['Суммарный бюджет'] += cost\n",
        "\n",
        "    res = list(city_data.values())\n",
        "\n",
        "    sorted_res = sorted(res, key=lambda x: x['Город'])\n",
        "    #print(sorted_res)\n",
        "\n",
        "    return sorted_res\n",
        "\n",
        "group_campaign_data('campaign_data.csv')"
      ]
    },
    {
      "cell_type": "code",
      "execution_count": null,
      "metadata": {
        "cellView": "form",
        "colab": {
          "base_uri": "https://localhost:8080/"
        },
        "id": "1csOLxor5_ox",
        "outputId": "0a2ecb16-fd12-4f65-8d97-a4160aeb424d"
      },
      "outputs": [
        {
          "output_type": "stream",
          "name": "stdout",
          "text": [
            "Поздравляем, Вы справились!\n"
          ]
        }
      ],
      "source": [
        "#@title ✏️ Проверка: чтобы проверить свое решение запустите код в этой ячейке\n",
        "correct_answer = answers[6]\n",
        "user_answer = str(group_campaign_data('campaign_data.csv'))\n",
        "\n",
        "try:\n",
        "    assert user_answer == correct_answer\n",
        "except AssertionError:\n",
        "    print('Ответы не совпадают')\n",
        "else:\n",
        "    print('Поздравляем, Вы справились!')"
      ]
    },
    {
      "cell_type": "markdown",
      "metadata": {
        "id": "eF6DMWtfifY7"
      },
      "source": [
        "### **Напишите генератор, который будет генерировать данные о кампаниях, запущенных в указанном городе и имеющих суммарный бюджет выше заданного значения**\n",
        "\n",
        "Функция `campaign_generator` должна принимать путь к файлу, город и бюджет и генерировать словари, отсортированные по возрастанию 'ID Кампании' в формате:\n",
        "\n",
        "```\n",
        "{'ID Кампании': '657', 'Тип': 'Контекстная', 'Платформа': 'Вконтакте', 'Доход': '10692'}\n",
        "{'ID Кампании': '674', 'Тип': 'Нативная интеграция', 'Платформа': 'Яндекс', 'Доход': '20766'}\n",
        "{'ID Кампании': '761', 'Тип': 'Соцсети', 'Платформа': 'Вконтакте', 'Доход': '15680'}\n",
        "```"
      ]
    },
    {
      "cell_type": "code",
      "execution_count": null,
      "metadata": {
        "id": "mUDYPPqx6RPr",
        "colab": {
          "base_uri": "https://localhost:8080/"
        },
        "outputId": "d775c231-9e6e-4e67-eee5-dd97d10f7a48"
      },
      "outputs": [
        {
          "output_type": "execute_result",
          "data": {
            "text/plain": [
              "<generator object campaign_generator at 0x7c675063e3b0>"
            ]
          },
          "metadata": {},
          "execution_count": 212
        }
      ],
      "source": [
        "def campaign_generator(csv_path: str, seek_city: str, seek_cost: int):\n",
        "  with open(csv_path, 'r', newline='') as op_csv:\n",
        "    data = list(csv.reader(op_csv, delimiter=',', quotechar='\"'))\n",
        "    #[print(row) for row in data[0:5]]\n",
        "\n",
        "    req_data = [(row[0], row[3], row[4], row[5], row[6], row[-1]) for row in data[1:] if row[6] == seek_city and int(row[5]) > seek_cost]\n",
        "    #[print(row) for row in req_data]\n",
        "\n",
        "    res_gen = ({'ID Кампании': camp_id, 'Тип': ttype, 'Платформа': platf, 'Доход': rev} for camp_id, ttype, platf, _, _, rev in req_data)\n",
        "\n",
        "\n",
        "    yield from res_gen\n",
        "\n",
        "\n",
        "\n",
        "campaign_generator('campaign_data.csv', 'Москва', 25000)"
      ]
    },
    {
      "cell_type": "code",
      "execution_count": null,
      "metadata": {
        "cellView": "form",
        "colab": {
          "base_uri": "https://localhost:8080/"
        },
        "id": "TbmDR4NP66qm",
        "outputId": "1c6c3190-2a53-48c6-b780-04edd3d9f1ca"
      },
      "outputs": [
        {
          "output_type": "stream",
          "name": "stdout",
          "text": [
            "Поздравляем, Вы справились!\n"
          ]
        }
      ],
      "source": [
        "#@title ✏️ Проверка: чтобы проверить свое решение запустите код в этой ячейке\n",
        "correct_answer = answers[7]\n",
        "\n",
        "campaigns = campaign_generator('campaign_data.csv', 'Москва', 48000)\n",
        "user_answer = []\n",
        "for campaign in campaigns:\n",
        "    user_answer.append(campaign)\n",
        "\n",
        "try:\n",
        "    assert str(user_answer) == correct_answer\n",
        "except AssertionError:\n",
        "    print('Ответы не совпадают')\n",
        "else:\n",
        "    print('Поздравляем, Вы справились!')"
      ]
    },
    {
      "cell_type": "code",
      "execution_count": null,
      "metadata": {
        "cellView": "form",
        "colab": {
          "base_uri": "https://localhost:8080/"
        },
        "id": "FFLSK9ti2FKu",
        "outputId": "11713360-016d-4067-8e86-be43dd4bcf33"
      },
      "outputs": [
        {
          "output_type": "stream",
          "name": "stdout",
          "text": [
            "Поздравляем, Вы справились!\n"
          ]
        }
      ],
      "source": [
        "#@title ✏️ Еще одна проверка: чтобы проверить свое решение запустите код в этой ячейке\n",
        "correct_answer = answers[8]\n",
        "\n",
        "campaigns = campaign_generator('campaign_data.csv', 'Казань', 47000)\n",
        "user_answer = []\n",
        "for campaign in campaigns:\n",
        "    user_answer.append(campaign)\n",
        "\n",
        "try:\n",
        "    assert str(user_answer) == correct_answer\n",
        "except AssertionError:\n",
        "    print('Ответы не совпадают')\n",
        "else:\n",
        "    print('Поздравляем, Вы справились!')"
      ]
    }
  ],
  "metadata": {
    "colab": {
      "provenance": [],
      "include_colab_link": true
    },
    "kernelspec": {
      "display_name": "Python 3",
      "name": "python3"
    },
    "language_info": {
      "name": "python"
    }
  },
  "nbformat": 4,
  "nbformat_minor": 0
}
