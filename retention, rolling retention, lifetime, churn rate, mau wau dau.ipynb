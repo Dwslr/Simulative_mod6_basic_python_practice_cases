{
  "nbformat": 4,
  "nbformat_minor": 0,
  "metadata": {
    "colab": {
      "provenance": [],
      "include_colab_link": true
    },
    "kernelspec": {
      "name": "python3",
      "display_name": "Python 3"
    },
    "language_info": {
      "name": "python"
    }
  },
  "cells": [
    {
      "cell_type": "markdown",
      "metadata": {
        "id": "view-in-github",
        "colab_type": "text"
      },
      "source": [
        "<a href=\"https://colab.research.google.com/github/Dwslr/Simulative_mod6_ch10_case3/blob/main/Copy_of_Simulative%2C_%D0%9C%D0%BE%D0%B4%D1%83%D0%BB%D1%8C_6%2C_%D0%93%D0%BB%D0%B0%D0%B2%D0%B0_10%2C_%D0%A2%D1%80%D0%B5%D1%82%D0%B8%D0%B9_%D0%BA%D0%B5%D0%B9%D1%81.ipynb\" target=\"_parent\"><img src=\"https://colab.research.google.com/assets/colab-badge.svg\" alt=\"Open In Colab\"/></a>"
      ]
    },
    {
      "cell_type": "markdown",
      "source": [
        "## 3 кейс\n",
        "\n",
        "**В этом кейсе вы будете рассчитывать:**\n",
        "* retention\n",
        "* rolling retention\n",
        "* lifetime\n",
        "* churn rate\n",
        "* mau\n",
        "* wau\n",
        "* dau"
      ],
      "metadata": {
        "id": "T_xBU6WvyPhY"
      }
    },
    {
      "cell_type": "markdown",
      "source": [
        "**Важно**\n",
        "\n",
        "Перед началом решения задачи выполните следующую ячейку - в ней скачиваются нужные файлы"
      ],
      "metadata": {
        "id": "U2D5zGSdzc92"
      }
    },
    {
      "cell_type": "code",
      "execution_count": 21,
      "metadata": {
        "id": "3eJFMuMpyCp-",
        "colab": {
          "base_uri": "https://localhost:8080/"
        },
        "outputId": "6b6959e8-5892-4b0f-a814-5d11717c41d9"
      },
      "outputs": [
        {
          "output_type": "stream",
          "name": "stdout",
          "text": [
            "--2024-02-07 08:17:05--  https://gist.github.com/Vs8th/739269a03f2f4a7396d04d6739da3771/raw/registrations.csv\n",
            "Resolving gist.github.com (gist.github.com)... 140.82.114.4\n",
            "Connecting to gist.github.com (gist.github.com)|140.82.114.4|:443... connected.\n",
            "HTTP request sent, awaiting response... 301 Moved Permanently\n",
            "Location: https://gist.githubusercontent.com/Vs8th/739269a03f2f4a7396d04d6739da3771/raw/registrations.csv [following]\n",
            "--2024-02-07 08:17:05--  https://gist.githubusercontent.com/Vs8th/739269a03f2f4a7396d04d6739da3771/raw/registrations.csv\n",
            "Resolving gist.githubusercontent.com (gist.githubusercontent.com)... 185.199.108.133, 185.199.109.133, 185.199.110.133, ...\n",
            "Connecting to gist.githubusercontent.com (gist.githubusercontent.com)|185.199.108.133|:443... connected.\n",
            "HTTP request sent, awaiting response... 200 OK\n",
            "Length: 14918 (15K) [text/plain]\n",
            "Saving to: ‘registrations.csv.1’\n",
            "\n",
            "\rregistrations.csv.1   0%[                    ]       0  --.-KB/s               \rregistrations.csv.1 100%[===================>]  14.57K  --.-KB/s    in 0s      \n",
            "\n",
            "2024-02-07 08:17:06 (37.1 MB/s) - ‘registrations.csv.1’ saved [14918/14918]\n",
            "\n",
            "--2024-02-07 08:17:06--  https://gist.github.com/Vs8th/aacb80595d1d6aaa2e31eb735f8bc644/raw/entries.csv\n",
            "Resolving gist.github.com (gist.github.com)... 140.82.114.4\n",
            "Connecting to gist.github.com (gist.github.com)|140.82.114.4|:443... connected.\n",
            "HTTP request sent, awaiting response... 301 Moved Permanently\n",
            "Location: https://gist.githubusercontent.com/Vs8th/aacb80595d1d6aaa2e31eb735f8bc644/raw/entries.csv [following]\n",
            "--2024-02-07 08:17:06--  https://gist.githubusercontent.com/Vs8th/aacb80595d1d6aaa2e31eb735f8bc644/raw/entries.csv\n",
            "Resolving gist.githubusercontent.com (gist.githubusercontent.com)... 185.199.108.133, 185.199.109.133, 185.199.110.133, ...\n",
            "Connecting to gist.githubusercontent.com (gist.githubusercontent.com)|185.199.108.133|:443... connected.\n",
            "HTTP request sent, awaiting response... 200 OK\n",
            "Length: 308588 (301K) [text/plain]\n",
            "Saving to: ‘entries.csv.1’\n",
            "\n",
            "entries.csv.1       100%[===================>] 301.36K  --.-KB/s    in 0.03s   \n",
            "\n",
            "2024-02-07 08:17:06 (8.45 MB/s) - ‘entries.csv.1’ saved [308588/308588]\n",
            "\n",
            "--2024-02-07 08:17:06--  https://gist.github.com/Vs8th/0e827e9a608117345dd6585ab81e8c86/raw/metrics.txt\n",
            "Resolving gist.github.com (gist.github.com)... 140.82.114.4\n",
            "Connecting to gist.github.com (gist.github.com)|140.82.114.4|:443... connected.\n",
            "HTTP request sent, awaiting response... 301 Moved Permanently\n",
            "Location: https://gist.githubusercontent.com/Vs8th/0e827e9a608117345dd6585ab81e8c86/raw/metrics.txt [following]\n",
            "--2024-02-07 08:17:06--  https://gist.githubusercontent.com/Vs8th/0e827e9a608117345dd6585ab81e8c86/raw/metrics.txt\n",
            "Resolving gist.githubusercontent.com (gist.githubusercontent.com)... 185.199.108.133, 185.199.109.133, 185.199.110.133, ...\n",
            "Connecting to gist.githubusercontent.com (gist.githubusercontent.com)|185.199.108.133|:443... connected.\n",
            "HTTP request sent, awaiting response... 200 OK\n",
            "Length: 67 [text/plain]\n",
            "Saving to: ‘metrics.txt.1’\n",
            "\n",
            "metrics.txt.1       100%[===================>]      67  --.-KB/s    in 0s      \n",
            "\n",
            "2024-02-07 08:17:06 (1.19 MB/s) - ‘metrics.txt.1’ saved [67/67]\n",
            "\n"
          ]
        }
      ],
      "source": [
        "!wget https://gist.github.com/Vs8th/739269a03f2f4a7396d04d6739da3771/raw/registrations.csv\n",
        "\n",
        "!wget https://gist.github.com/Vs8th/aacb80595d1d6aaa2e31eb735f8bc644/raw/entries.csv\n",
        "\n",
        "!wget https://gist.github.com/Vs8th/0e827e9a608117345dd6585ab81e8c86/raw/metrics.txt"
      ]
    },
    {
      "cell_type": "markdown",
      "source": [
        "Файлами для работы являются `registrations.csv` и `entries.csv`. В них хранятся данные о регистрациях пользователей и входа на платформу соответственно."
      ],
      "metadata": {
        "id": "vnMFicli7Fa7"
      }
    },
    {
      "cell_type": "markdown",
      "source": [
        "### **Посчитайте Retention 15 дня (в процентах) для пользователей, зарегистрированных в январе**\n",
        "\n",
        "Cохраните результат в переменную `retention_15_day`\n",
        "\n",
        "**Примечание:** результат округлите до 5 знаков после запятой"
      ],
      "metadata": {
        "id": "s2g2hxfMzqLo"
      }
    },
    {
      "cell_type": "code",
      "source": [
        "# @title function transforming the csv files into lists and make imports\n",
        "import csv\n",
        "from datetime import datetime\n",
        "from collections import defaultdict\n",
        "\n",
        "\n",
        "def read_files(regs_csv: str, entrs_csv: str):\n",
        "  with open(regs_csv, 'r', newline='') as read_regs:\n",
        "    cont_regs = list(csv.reader(read_regs, delimiter = ';', quotechar = '\"'))\n",
        "\n",
        "  with open(entrs_csv, 'r', newline='') as read_entrs:\n",
        "    cont_entrs = list(csv.reader(read_entrs, delimiter = ';', quotechar = '\"'))\n",
        "\n",
        "  return cont_regs, cont_entrs\n",
        "\n",
        "cont_regs, cont_entrs = read_files('registrations.csv', 'entries.csv')"
      ],
      "metadata": {
        "id": "u5l9mm-vzpJ8"
      },
      "execution_count": 22,
      "outputs": []
    },
    {
      "cell_type": "code",
      "source": [
        "# @title function performing retention calculation\n",
        "def calc_nday_retention(regs: list, entrs: list, month_cohort: int, nday: int):\n",
        "\n",
        "  dict_regs = {row[0]: datetime.strptime(row[1], '%Y-%m-%d') for row in regs[1:] if datetime.strptime(row[1], '%Y-%m-%d').month == month_cohort}\n",
        "\n",
        "  users_0day, users_nday, users_n_day_plus = set(), set(), set()\n",
        "\n",
        "\n",
        "  users_0day = {row[0] for row in entrs[1:] if row[0] in dict_regs and (datetime.strptime(row[1], '%Y-%m-%d') - dict_regs[row[0]]).days == 0}\n",
        "\n",
        "  users_nday = {row[0] for row in entrs[1:] if row[0] in dict_regs and (datetime.strptime(row[1], '%Y-%m-%d') - dict_regs[row[0]]).days == nday}\n",
        "\n",
        "  users_n_day_plus = {row[0] for row in entrs[1:] if row[0] in dict_regs and (datetime.strptime(row[1], '%Y-%m-%d') - dict_regs[row[0]]).days >= nday}\n",
        "\n",
        "\n",
        "  nday_retention_rate = len(users_nday) / len(users_0day) * 100\n",
        "\n",
        "  nday_roll_retent_rate = len(users_n_day_plus) / len(users_0day) * 100\n",
        "\n",
        "\n",
        "  return round(nday_retention_rate, 5), round(nday_roll_retent_rate, 5)"
      ],
      "metadata": {
        "id": "zVt5OumvgLG1"
      },
      "execution_count": 23,
      "outputs": []
    },
    {
      "cell_type": "code",
      "source": [
        "retention_15_day, _ = calc_nday_retention(cont_regs, cont_entrs, 1, 15)\n",
        "print(retention_15_day)"
      ],
      "metadata": {
        "colab": {
          "base_uri": "https://localhost:8080/"
        },
        "id": "3grBCY3Ga2Tk",
        "outputId": "bb4fe471-9f10-470e-f866-95865da99742"
      },
      "execution_count": 24,
      "outputs": [
        {
          "output_type": "stream",
          "name": "stdout",
          "text": [
            "54.65116\n"
          ]
        }
      ]
    },
    {
      "cell_type": "code",
      "source": [
        "#@title ✏️ Проверка: чтобы проверить свое решение запустите код в этой ячейке\n",
        "# Открываем файл с правильными ответами\n",
        "with open('metrics.txt', 'r') as f:\n",
        "    answers = f.read().split('\\n')\n",
        "\n",
        "correct_answer = float(answers[0])\n",
        "\n",
        "try:\n",
        "    assert retention_15_day == correct_answer\n",
        "except AssertionError:\n",
        "    print('Ответы не совпадают')\n",
        "else:\n",
        "    print('Поздравляем, Вы справились!')"
      ],
      "metadata": {
        "colab": {
          "base_uri": "https://localhost:8080/"
        },
        "id": "YGydKAis0Ae9",
        "outputId": "ad8828cd-325e-430c-84f5-aeb03785e7c0"
      },
      "execution_count": 25,
      "outputs": [
        {
          "output_type": "stream",
          "name": "stdout",
          "text": [
            "Поздравляем, Вы справились!\n"
          ]
        }
      ]
    },
    {
      "cell_type": "markdown",
      "source": [
        "### **Посчитайте Rolling-retention 30 дня (в процентах) для пользователей из той же когорты**\n",
        "\n",
        "Сохраните результат в переменную `rolling_retention`\n",
        "\n",
        "**Примечание:** результат округлите до 5 знаков после запятой"
      ],
      "metadata": {
        "id": "TbkdEVLI0Cor"
      }
    },
    {
      "cell_type": "code",
      "source": [
        "_, rolling_retention = calc_nday_retention(cont_regs, cont_entrs, 1, 30)\n",
        "print(rolling_retention)"
      ],
      "metadata": {
        "colab": {
          "base_uri": "https://localhost:8080/"
        },
        "id": "3yQ8LS8gb7rj",
        "outputId": "b2e50439-3ae8-4d4d-f50f-a4c36661d286"
      },
      "execution_count": 26,
      "outputs": [
        {
          "output_type": "stream",
          "name": "stdout",
          "text": [
            "29.06977\n"
          ]
        }
      ]
    },
    {
      "cell_type": "code",
      "source": [
        "#@title ✏️ Проверка: чтобы проверить свое решение запустите код в этой ячейке\n",
        "correct_answer = float(answers[1])\n",
        "\n",
        "try:\n",
        "    assert rolling_retention == correct_answer\n",
        "except AssertionError:\n",
        "    print('Ответы не совпадают')\n",
        "else:\n",
        "    print('Поздравляем, Вы справились!')"
      ],
      "metadata": {
        "id": "fTwUwQZ40JCl",
        "colab": {
          "base_uri": "https://localhost:8080/"
        },
        "outputId": "3c7f1057-b7cb-4859-e7af-62af79d3d8cb"
      },
      "execution_count": 27,
      "outputs": [
        {
          "output_type": "stream",
          "name": "stdout",
          "text": [
            "Поздравляем, Вы справились!\n"
          ]
        }
      ]
    },
    {
      "cell_type": "markdown",
      "source": [
        "### **Посчитайте Lifetime по всем пользователям, посчитанный как интеграл от n-day retention**\n",
        "\n",
        "Сохраните результат в переменную `lifetime`\n",
        "\n",
        "**Примечание:** результат округлите до 5 знаков после запятой"
      ],
      "metadata": {
        "id": "wxkhEVmF0PAo"
      }
    },
    {
      "cell_type": "code",
      "source": [
        "# Ваше решение\n",
        "def calc_lifetime(regs: list, entrs: list):\n",
        "    dict_regs = {int(row[0]): datetime.strptime(row[1], \"%Y-%m-%d\") for row in regs[1:]}\n",
        "\n",
        "    dict_entrs = {}\n",
        "    for row in entrs[1:]:\n",
        "        user = int(row[0])\n",
        "        date_entr = datetime.strptime(row[1], \"%Y-%m-%d\")\n",
        "        day = (date_entr - dict_regs[user]).days\n",
        "        if day not in dict_entrs:\n",
        "            dict_entrs[day] = [user]\n",
        "        else:\n",
        "            if user not in dict_entrs[day]:\n",
        "                dict_entrs[day].append(user)\n",
        "    # print(dict_entrs.keys())\n",
        "\n",
        "    total_users_day_0 = len(dict_entrs.get(0, []))\n",
        "\n",
        "    lifetime = round(sum(len(users_on_day) / total_users_day_0 for users_on_day in dict_entrs.values()), 5)\n",
        "\n",
        "    return lifetime, dict_regs, dict_entrs\n",
        "\n",
        "\n",
        "lifetime, _, _ = calc_lifetime(cont_regs, cont_entrs)\n",
        "print(lifetime)"
      ],
      "metadata": {
        "id": "KS17l5Ux0UD3",
        "colab": {
          "base_uri": "https://localhost:8080/"
        },
        "outputId": "fc254c78-bd4a-4fea-c6e6-806cb4c74d19"
      },
      "execution_count": 28,
      "outputs": [
        {
          "output_type": "stream",
          "name": "stdout",
          "text": [
            "14.804\n"
          ]
        }
      ]
    },
    {
      "cell_type": "code",
      "source": [
        "#@title ✏️ Проверка: чтобы проверить свое решение запустите код в этой ячейке\n",
        "correct_answer = float(answers[2])\n",
        "\n",
        "try:\n",
        "    assert lifetime == correct_answer\n",
        "except AssertionError:\n",
        "    print('Ответы не совпадают')\n",
        "else:\n",
        "    print('Поздравляем, Вы справились!')"
      ],
      "metadata": {
        "id": "k7s0V8hF0Vmx",
        "colab": {
          "base_uri": "https://localhost:8080/"
        },
        "outputId": "bf2d577b-80e4-42b9-a739-35e599a27ee6"
      },
      "execution_count": 29,
      "outputs": [
        {
          "output_type": "stream",
          "name": "stdout",
          "text": [
            "Поздравляем, Вы справились!\n"
          ]
        }
      ]
    },
    {
      "cell_type": "markdown",
      "source": [
        "### **Посчитайте Churn rate 29 дня (в долях), посчитанный по всем пользователям**\n",
        "\n",
        "Сохраните результат в переменную `churn_29`"
      ],
      "metadata": {
        "id": "OrwoZ-wR0jJq"
      }
    },
    {
      "cell_type": "code",
      "source": [
        "# Ваше решение\n",
        "# next task: calculate nday churn rate\n",
        "def calc_churn_rate(regs: list, entrs: list, nday: int):\n",
        "    regs_dict = {int(row[0]): datetime.strptime(row[1], \"%Y-%m-%d\") for row in regs[1:]}\n",
        "\n",
        "    day0_users_set = {int(row[0]) for row in entrs[1:] if int(row[0]) in regs_dict and (datetime.strptime(row[1], \"%Y-%m-%d\") - regs_dict[int(row[0])]).days == 0}\n",
        "\n",
        "    nday_users_set = {int(row[0]) for row in entrs[1:] if int(row[0]) in regs_dict and (datetime.strptime(row[1], \"%Y-%m-%d\") - regs_dict[int(row[0])]).days >= nday}\n",
        "\n",
        "    result = 1 - (len(nday_users_set) / len(day0_users_set))\n",
        "    return result\n",
        "\n",
        "\n",
        "churn_29 = calc_churn_rate(cont_regs, cont_entrs, 29)\n",
        "print(churn_29)\n"
      ],
      "metadata": {
        "id": "hKN7vidq0mJ3",
        "colab": {
          "base_uri": "https://localhost:8080/"
        },
        "outputId": "fb5e3ede-6df8-4419-82b5-3dd41478b2ec"
      },
      "execution_count": 30,
      "outputs": [
        {
          "output_type": "stream",
          "name": "stdout",
          "text": [
            "0.509\n"
          ]
        }
      ]
    },
    {
      "cell_type": "code",
      "source": [
        "#@title ✏️ Проверка: чтобы проверить свое решение запустите код в этой ячейке\n",
        "correct_answer = float(answers[3])\n",
        "\n",
        "try:\n",
        "    assert churn_29 == correct_answer\n",
        "except AssertionError:\n",
        "    print('Ответы не совпадают')\n",
        "else:\n",
        "    print('Поздравляем, Вы справились!')"
      ],
      "metadata": {
        "id": "14KnR1gD0ou9",
        "colab": {
          "base_uri": "https://localhost:8080/"
        },
        "outputId": "84b6dc91-79e2-41a8-b7bd-6cbd3f5c1f1f"
      },
      "execution_count": 31,
      "outputs": [
        {
          "output_type": "stream",
          "name": "stdout",
          "text": [
            "Поздравляем, Вы справились!\n"
          ]
        }
      ]
    },
    {
      "cell_type": "markdown",
      "source": [
        "### **Посчитайте Mau, Wau, Dau за последний месяц/неделю/день записей**\n",
        "\n",
        "Сохраните результат в переменные `dec_mau`, `dec_wau`, `dec_dau` соответственно\n",
        "\n",
        "**Примечание:** последний месяц записей - декабрь. Поэтому `mau` рассчитываем для декабря (2021 года), для `wau` берем последнюю неделю - с 25 по 31 декабря, и для `dau` соответственно последний день - 31 декабря."
      ],
      "metadata": {
        "id": "QuO3ZwRI5mdH"
      }
    },
    {
      "cell_type": "code",
      "source": [
        "def calc_nday_period_active_users(n_year: int, n_month: int, nw_day: int, n_day: int):\n",
        "    # Calculate Monthly Active Users (MAU), Weekly Active Users (WAU), and Daily Active Users (DAU) for the specified month, week, day of the year\n",
        "    set_nmau = set()\n",
        "    set_nwau = set()\n",
        "    set_ndau = set()\n",
        "\n",
        "    for row in cont_entrs[1:]:\n",
        "        date = datetime.strptime(row[1], \"%Y-%m-%d\")\n",
        "        user = int(row[0])\n",
        "        if date.year == n_year and date.month == n_month:\n",
        "            set_nmau.add(user)\n",
        "            if date.day >= nw_day - 6:\n",
        "                set_nwau.add(user)\n",
        "                if date.day == n_day:\n",
        "                    set_ndau.add(user)\n",
        "\n",
        "    # Calculate the average Monthly Active Users (MAU), Weekly Active Users (WAU), and Daily Active Users (DAU) for the entire date range.\n",
        "    dict_days = defaultdict(set)\n",
        "    dict_months = defaultdict(set)\n",
        "    dict_weeks = defaultdict(set)\n",
        "\n",
        "    for row in cont_entrs[1:]:\n",
        "        date = datetime.strptime(row[1], \"%Y-%m-%d\")\n",
        "        user = int(row[0])\n",
        "        dict_days[date].add(user)\n",
        "        dict_months[date.month].add(user)\n",
        "        dict_weeks[date.strftime(\"%W\")].add(user)\n",
        "\n",
        "    day_users = [len(users) for users in dict_days.values()]\n",
        "    month_users = [len(users) for users in dict_months.values()]\n",
        "    week_users = [len(users) for users in dict_weeks.values()]\n",
        "\n",
        "    nmau, nwau, ndau = len(set_nmau), len(set_nwau), len(set_ndau)\n",
        "\n",
        "    mau = round(sum(month_users) / len(month_users), 5)\n",
        "    wau = round(sum(week_users) / len(week_users), 5)\n",
        "    dau = round(sum(day_users) / len(day_users), 5)\n",
        "\n",
        "    return nmau, nwau, ndau, mau, wau, dau\n",
        "\n",
        "\n",
        "(\n",
        "    dec_mau,\n",
        "    dec_wau,\n",
        "    dec_dau,\n",
        "    avg_dec_mau,\n",
        "    avg_dec_wau,\n",
        "    avg_dec_dau,\n",
        ") = calc_nday_period_active_users(2021, 12, 31, 31)\n",
        "print(dec_mau, dec_wau, dec_dau, avg_dec_mau, avg_dec_wau, avg_dec_dau)"
      ],
      "metadata": {
        "colab": {
          "base_uri": "https://localhost:8080/"
        },
        "id": "Q_Ehs0UmBmRh",
        "outputId": "60c14508-2c25-4390-aa23-c0707462ed34"
      },
      "execution_count": 32,
      "outputs": [
        {
          "output_type": "stream",
          "name": "stdout",
          "text": [
            "133 84 47 102.58333 89.86792 40.5589\n"
          ]
        }
      ]
    },
    {
      "cell_type": "code",
      "source": [
        "#@title ✏️ Проверка: чтобы проверить свое решение запустите код в этой ячейке\n",
        "correct_answer = float(answers[4])\n",
        "\n",
        "try:\n",
        "    assert dec_mau == correct_answer\n",
        "except AssertionError:\n",
        "    print('Ответы не совпадают')\n",
        "else:\n",
        "    print('Поздравляем, Вы справились!')"
      ],
      "metadata": {
        "id": "dpK4clbe5xiH",
        "colab": {
          "base_uri": "https://localhost:8080/"
        },
        "outputId": "ad03f782-6ad4-48b7-c4d8-6f179b6225e9"
      },
      "execution_count": 33,
      "outputs": [
        {
          "output_type": "stream",
          "name": "stdout",
          "text": [
            "Поздравляем, Вы справились!\n"
          ]
        }
      ]
    },
    {
      "cell_type": "code",
      "source": [
        "#@title ✏️ Проверка: чтобы проверить свое решение запустите код в этой ячейке\n",
        "correct_answer = float(answers[5])\n",
        "\n",
        "try:\n",
        "    assert dec_wau == correct_answer\n",
        "except AssertionError:\n",
        "    print('Ответы не совпадают')\n",
        "else:\n",
        "    print('Поздравляем, Вы справились!')"
      ],
      "metadata": {
        "id": "xziXbjnJ549b",
        "colab": {
          "base_uri": "https://localhost:8080/"
        },
        "outputId": "1ac4d43e-3216-437e-adb5-a1d060db66d8"
      },
      "execution_count": 34,
      "outputs": [
        {
          "output_type": "stream",
          "name": "stdout",
          "text": [
            "Поздравляем, Вы справились!\n"
          ]
        }
      ]
    },
    {
      "cell_type": "code",
      "source": [
        "#@title ✏️ Проверка: чтобы проверить свое решение запустите код в этой ячейке\n",
        "correct_answer = float(answers[6])\n",
        "\n",
        "try:\n",
        "    assert dec_dau == correct_answer\n",
        "except AssertionError:\n",
        "    print('Ответы не совпадают')\n",
        "else:\n",
        "    print('Поздравляем, Вы справились!')"
      ],
      "metadata": {
        "id": "1csOLxor5_ox",
        "colab": {
          "base_uri": "https://localhost:8080/"
        },
        "outputId": "6beebb61-b2e7-4f74-cb31-48c49eb5f6f5"
      },
      "execution_count": 35,
      "outputs": [
        {
          "output_type": "stream",
          "name": "stdout",
          "text": [
            "Поздравляем, Вы справились!\n"
          ]
        }
      ]
    },
    {
      "cell_type": "markdown",
      "source": [
        "### **Посчитайте Mau, Wau, Dau усредненные**\n",
        "\n",
        "Сохраните результат в переменные `avg_dec_mau`, `avg_dec_wau`, `avg_dec_dau` соответственно\n",
        "\n",
        "**Примечание:** результаты округлите до 5 знаков после запятой"
      ],
      "metadata": {
        "id": "gzElxXgv6Dyr"
      }
    },
    {
      "cell_type": "code",
      "source": [
        "#@title ✏️ Проверка: чтобы проверить свое решение запустите код в этой ячейке\n",
        "correct_answer = float(answers[7])\n",
        "\n",
        "try:\n",
        "    assert avg_dec_mau == correct_answer\n",
        "except AssertionError:\n",
        "    print('Ответы не совпадают')\n",
        "else:\n",
        "    print('Поздравляем, Вы справились!')"
      ],
      "metadata": {
        "id": "CfikZaBu6V9_",
        "colab": {
          "base_uri": "https://localhost:8080/"
        },
        "outputId": "968e48aa-79d7-4457-e4a5-f9b2e2cfb69f"
      },
      "execution_count": 36,
      "outputs": [
        {
          "output_type": "stream",
          "name": "stdout",
          "text": [
            "Поздравляем, Вы справились!\n"
          ]
        }
      ]
    },
    {
      "cell_type": "code",
      "source": [
        "#@title ✏️ Проверка: чтобы проверить свое решение запустите код в этой ячейке\n",
        "correct_answer = float(answers[8])\n",
        "\n",
        "try:\n",
        "    assert avg_dec_wau == correct_answer\n",
        "except AssertionError:\n",
        "    print('Ответы не совпадают')\n",
        "else:\n",
        "    print('Поздравляем, Вы справились!')"
      ],
      "metadata": {
        "id": "qbZgzDpV6zUl",
        "colab": {
          "base_uri": "https://localhost:8080/"
        },
        "outputId": "9a49952b-3378-484a-f3d3-1f7ae3d5d9de"
      },
      "execution_count": 37,
      "outputs": [
        {
          "output_type": "stream",
          "name": "stdout",
          "text": [
            "Поздравляем, Вы справились!\n"
          ]
        }
      ]
    },
    {
      "cell_type": "code",
      "source": [
        "#@title ✏️ Проверка: чтобы проверить свое решение запустите код в этой ячейке\n",
        "correct_answer = float(answers[9])\n",
        "\n",
        "try:\n",
        "    assert avg_dec_dau == correct_answer\n",
        "except AssertionError:\n",
        "    print('Ответы не совпадают')\n",
        "else:\n",
        "    print('Поздравляем, Вы справились!')"
      ],
      "metadata": {
        "id": "TbmDR4NP66qm",
        "colab": {
          "base_uri": "https://localhost:8080/"
        },
        "outputId": "ac6fc2fb-0a59-4fa7-e442-d1fed18fd16d"
      },
      "execution_count": 38,
      "outputs": [
        {
          "output_type": "stream",
          "name": "stdout",
          "text": [
            "Поздравляем, Вы справились!\n"
          ]
        }
      ]
    }
  ]
}
