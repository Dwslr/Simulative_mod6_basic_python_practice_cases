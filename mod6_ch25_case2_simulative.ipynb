{
  "nbformat": 4,
  "nbformat_minor": 0,
  "metadata": {
    "colab": {
      "provenance": [],
      "include_colab_link": true
    },
    "kernelspec": {
      "name": "python3",
      "display_name": "Python 3"
    },
    "language_info": {
      "name": "python"
    }
  },
  "cells": [
    {
      "cell_type": "markdown",
      "metadata": {
        "id": "view-in-github",
        "colab_type": "text"
      },
      "source": [
        "<a href=\"https://colab.research.google.com/github/Dwslr/Simulative_mod6_basic_python_practice_cases/blob/main/mod6_ch25_case2_simulative.ipynb\" target=\"_parent\"><img src=\"https://colab.research.google.com/assets/colab-badge.svg\" alt=\"Open In Colab\"/></a>"
      ]
    },
    {
      "cell_type": "markdown",
      "source": [
        "## **2 кейс**\n",
        "\n",
        "**Трек задач**"
      ],
      "metadata": {
        "id": "XUqCUBW5fUST"
      }
    },
    {
      "cell_type": "markdown",
      "source": [
        "### **Решения**"
      ],
      "metadata": {
        "id": "CxmnD3GvffQ4"
      }
    },
    {
      "cell_type": "markdown",
      "source": [
        "#### **Задача 1**\n",
        "\n",
        "Для начала определите классы `Task` и `Project`."
      ],
      "metadata": {
        "id": "5bdLXu2ksLB7"
      }
    },
    {
      "cell_type": "markdown",
      "source": [
        "**Решение**\n",
        "\n",
        "Напишите свое решение ниже"
      ],
      "metadata": {
        "id": "qUL4LtIUnJge"
      }
    },
    {
      "cell_type": "markdown",
      "source": [
        "Техническое задание:\n",
        "\n",
        "Важно будет определить два класса - Task и Project.\n",
        "\n",
        "Каждая задача (Task) должна иметь следующие атрибуты:\n",
        "\n",
        "Идентификатор (task_id) - уникальный номер задачи\n",
        "Название (name) - название задачи\n",
        "Описание (description) - описание задачи\n",
        "Статус (status) - текущий статус задачи (например, \"выполняется\", \"завершена\", \"ожидание\" и т.д.)\n",
        "Длительность (duration) - ожидаемая длительность задачи\n",
        "\n",
        "Класс Project будет содержать список задач и должен иметь следующие методы:\n",
        "\n",
        "Метод для добавления задачи в проект (add_task)\n",
        "Метод для удаления задачи из проекта по ее идентификатору (remove_task)\n",
        "Метод для получения всех задач в проекте (get_all_tasks)\n",
        "Итератор для перебора задач в проекте (__iter__)"
      ],
      "metadata": {
        "id": "HDhjFtMellE5"
      }
    },
    {
      "cell_type": "code",
      "source": [
        "class Task:\n",
        "  def __init__(self, task_id: int, name: str, description: str, status: str, duration: int):\n",
        "    self._task_id = task_id\n",
        "    self._name = name\n",
        "    self._description = description\n",
        "    self._status = status\n",
        "    self._duration = duration\n",
        "\n",
        "  def get_task_id(self):\n",
        "    return self._task_id\n",
        "\n",
        "  def get_name(self):\n",
        "    return self._name\n",
        "\n",
        "  def get_description(self):\n",
        "    return self._description\n",
        "\n",
        "  def get_status(self):\n",
        "    return self._status\n",
        "\n",
        "  def get_duration(self):\n",
        "    return self._duration"
      ],
      "metadata": {
        "id": "Ia39hhmZbNRW"
      },
      "execution_count": 1,
      "outputs": []
    },
    {
      "cell_type": "code",
      "source": [
        "class Project:\n",
        "    def __init__(self):\n",
        "        self.tasks = []\n",
        "\n",
        "    def add_task(self, task):\n",
        "        self.tasks.append(task)\n",
        "\n",
        "    def remove_task(self, task_id):\n",
        "        for task in self.tasks[:]:\n",
        "            if task.task_id == task_id:\n",
        "                self.tasks.remove(task)\n",
        "\n",
        "    def get_all_tasks(self):\n",
        "        return self.tasks\n",
        "\n",
        "    def __iter__(self):\n",
        "        self._index = 0\n",
        "        return self\n",
        "\n",
        "    def __next__(self):\n",
        "        if self._index < len(self.tasks):\n",
        "            task = self.tasks[self._index]\n",
        "            self._index += 1\n",
        "            return task\n",
        "        else:\n",
        "            raise StopIteration"
      ],
      "metadata": {
        "id": "i-cVKsFc-4fS"
      },
      "execution_count": 52,
      "outputs": []
    },
    {
      "cell_type": "code",
      "source": [
        "#@title ✏️ Проверка: чтобы проверить свое решение запустите код в этой ячейке\n",
        "task1 = Task(1, \"Задача 1\", \"Описание\", \"Выполняется\", 14)\n",
        "task2 = Task(2, \"Задача 2\", \"Описание\", \"Выполняется\", 8)\n",
        "task3 = Task(3, \"Задача 3\", \"Описание\", \"Завершена\", 3)\n",
        "task4 = Task(4, \"Задача 4\", \"Описание: срочно\", \"Выполняется\", 7)\n",
        "\n",
        "project = Project()\n",
        "project.add_task(task1)\n",
        "project.add_task(task2)\n",
        "project.add_task(task3)\n",
        "project.add_task(task4)\n",
        "\n",
        "res = []\n",
        "for task in project:\n",
        "  name = task.get_name()\n",
        "  description = task.get_description()\n",
        "  status = task.get_status()\n",
        "  res.append((name, description, status))\n",
        "\n",
        "try:\n",
        "    assert res == [('Задача 1', 'Описание', 'Выполняется'),\n",
        "                   ('Задача 2', 'Описание', 'Выполняется'),\n",
        "                   ('Задача 3', 'Описание', 'Завершена'),\n",
        "                   ('Задача 4', 'Описание: срочно', 'Выполняется')]\n",
        "except AssertionError:\n",
        "    print('Ответы не совпадают')\n",
        "else:\n",
        "    print('Поздравляем, Вы справились!')"
      ],
      "metadata": {
        "id": "LkqzVw9skKEC",
        "colab": {
          "base_uri": "https://localhost:8080/"
        },
        "outputId": "c5e72b1d-cc5f-4dc9-c2fd-dd9d88cab346",
        "cellView": "form"
      },
      "execution_count": 94,
      "outputs": [
        {
          "output_type": "stream",
          "name": "stdout",
          "text": [
            "Поздравляем, Вы справились!\n"
          ]
        }
      ]
    },
    {
      "cell_type": "markdown",
      "source": [
        "#### **Задача 2**\n",
        "\n",
        "Определите класс `Analysis`."
      ],
      "metadata": {
        "id": "QLNMvvhXoIdV"
      }
    },
    {
      "cell_type": "markdown",
      "source": [
        "**Решение**\n",
        "\n",
        "Напишите свое решение ниже"
      ],
      "metadata": {
        "id": "LThhpSINoMHN"
      }
    },
    {
      "cell_type": "markdown",
      "source": [
        "Далее, класс Analysis, который будет предоставлять методы для анализа задач в проекте. Класс должен иметь следующие статические методы:\n",
        "\n",
        "Метод для подсчета общего количества задач в проекте (count_tasks(project))\n",
        "\n",
        "Метод для подсчета количества задач в определенном статусе (count_tasks_by_status(project, status))\n",
        "\n",
        "Метод для поиска задачи с самым длительным временем выполнения (find_longest_task(project))\n",
        "\n",
        "\n",
        "И последний класс - EnhancedAnalysis, который будет наследоваться от класса Analysis и предоставлять дополнительный метод (пока один) для расширенного анализа задач.\n",
        "\n",
        "Метод для поиска задач, содержащих определенные ключевые слова в названии или описании (find_tasks_with_keywords(project, keywords)). Где keywords это слова, которые мы ищем либо в имени, либо в описании."
      ],
      "metadata": {
        "id": "n6zKpAwSkfaA"
      }
    },
    {
      "cell_type": "code",
      "source": [
        "class Analysis:\n",
        "  @staticmethod\n",
        "  def count_tasks(project):\n",
        "    res = sum([1 for task in project])\n",
        "    return res\n",
        "\n",
        "  @staticmethod\n",
        "  def count_tasks_by_status(project, status):\n",
        "    return sum([1 for task in project if task.get_status() == status])\n",
        "\n",
        "  @staticmethod\n",
        "  def find_longest_task(project):\n",
        "    longest_time = max([task.get_duration() for task in project])\n",
        "    return [task for task in project if task.get_duration() == longest_time][0]\n",
        "\n",
        "task1 = Task(1, \"Задача 1 калькуляция\", \"Описание обалденное\", \"Выполняется\", 14)\n",
        "task2 = Task(2, \"Задача 2 прокрастинация\", \"Описание слабое\", \"Выполняется\", 8)\n",
        "task3 = Task(3, \"Задача 3 эвуляция\", \"Описание огонь\", \"Завершена\", 3)\n",
        "task4 = Task(4, \"Задача 4 ротация\", \"Описание: срочно в печь\", \"Выполняется\", 7)\n",
        "\n",
        "p = Project()\n",
        "\n",
        "p.add_task(task1)\n",
        "p.add_task(task2)\n",
        "p.add_task(task3)\n",
        "p.add_task(task4)\n",
        "\n",
        "gt = p.get_all_tasks()\n",
        "print(gt) # why doesnt show tasks contains?!\n",
        "\n",
        "a = Analysis.count_tasks(p)\n",
        "print(a)\n",
        "\n",
        "a2 = Analysis.count_tasks_by_status(p, \"Выполняется\")\n",
        "print(a2)\n",
        "\n",
        "a3 = Analysis.find_longest_task(p).get_name()\n",
        "print(a3)"
      ],
      "metadata": {
        "id": "9s8JBMlboJuf",
        "colab": {
          "base_uri": "https://localhost:8080/"
        },
        "outputId": "c4161b14-73a0-41f0-cb4e-230d4c0fb904"
      },
      "execution_count": 124,
      "outputs": [
        {
          "output_type": "stream",
          "name": "stdout",
          "text": [
            "[<__main__.Task object at 0x78aa31a84250>, <__main__.Task object at 0x78aa3195edd0>, <__main__.Task object at 0x78aa31a87610>, <__main__.Task object at 0x78aa3195fd00>]\n",
            "4\n",
            "3\n",
            "Задача 1 калькуляция\n"
          ]
        }
      ]
    },
    {
      "cell_type": "code",
      "source": [
        "#@title ✏️ Проверка: чтобы проверить свое решение запустите код в этой ячейке\n",
        "res2 = Analysis.count_tasks(project)\n",
        "res3 = Analysis.count_tasks_by_status(project, \"Выполняется\")\n",
        "res4 = Analysis.find_longest_task(project).get_name()\n",
        "\n",
        "try:\n",
        "    assert res2 == 4\n",
        "    assert res3 == 3\n",
        "    assert res4 == 'Задача 1'\n",
        "except AssertionError:\n",
        "    print('Ответы не совпадают')\n",
        "else:\n",
        "    print('Поздравляем, Вы справились!')"
      ],
      "metadata": {
        "colab": {
          "base_uri": "https://localhost:8080/"
        },
        "id": "a36bM9j9tD7l",
        "outputId": "e3fd5031-9cbe-40b3-d061-3832b5f05320"
      },
      "execution_count": 125,
      "outputs": [
        {
          "output_type": "stream",
          "name": "stdout",
          "text": [
            "Поздравляем, Вы справились!\n"
          ]
        }
      ]
    },
    {
      "cell_type": "markdown",
      "source": [
        "#### **Задача 3**\n",
        "\n",
        "Напишите `Analysis`"
      ],
      "metadata": {
        "id": "AwB-HtPLtjyl"
      }
    },
    {
      "cell_type": "markdown",
      "source": [
        "**Решение**\n",
        "\n",
        "Напишите свое решение ниже"
      ],
      "metadata": {
        "id": "GOTB--hmt2xw"
      }
    },
    {
      "cell_type": "code",
      "source": [
        "class EnhancedAnalysis:\n",
        "    @staticmethod\n",
        "    def find_tasks_with_keywords(project, keywords):\n",
        "        keywords = [kw.lower() for kw in keywords]\n",
        "        return [task for task in project if any(kw in task.get_description().lower() or kw in task.get_name().lower() for kw in keywords)]"
      ],
      "metadata": {
        "id": "fz7nRb_ntKMv"
      },
      "execution_count": 109,
      "outputs": []
    },
    {
      "cell_type": "code",
      "source": [
        "#@title ✏️ Проверка: чтобы проверить свое решение запустите код в этой ячейке\n",
        "keywords = [\"срочно\"]\n",
        "found_tasks = EnhancedAnalysis.find_tasks_with_keywords(project, keywords)\n",
        "res5 = []\n",
        "for task in found_tasks:\n",
        "  res5.append(task.get_name())\n",
        "\n",
        "try:\n",
        "    assert res5 == ['Задача 4']\n",
        "except AssertionError:\n",
        "    print('Ответы не совпадают')\n",
        "else:\n",
        "    print('Поздравляем, Вы справились!')"
      ],
      "metadata": {
        "colab": {
          "base_uri": "https://localhost:8080/"
        },
        "id": "KzV-hUKcvxb2",
        "outputId": "b9a8a3ab-e6a5-4e5f-d294-2fae486c5f82"
      },
      "execution_count": 110,
      "outputs": [
        {
          "output_type": "stream",
          "name": "stdout",
          "text": [
            "Поздравляем, Вы справились!\n"
          ]
        }
      ]
    }
  ]
}